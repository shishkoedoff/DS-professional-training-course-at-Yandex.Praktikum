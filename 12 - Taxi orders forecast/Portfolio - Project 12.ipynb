{
 "cells": [
  {
   "cell_type": "markdown",
   "metadata": {},
   "source": [
    "# Описание проекта \"Прогнозирование заказов такси\""
   ]
  },
  {
   "cell_type": "markdown",
   "metadata": {},
   "source": [
    "**Дано:**\n",
    "Исторические данные о заказах такси в аэропортах.\n",
    "  \n",
    "**Требуется:**\n",
    "Модель предсказания количества заказов такси на следующий час.\n",
    "  \n",
    "**Замечания:**\n",
    "Значение метрики RMSE на тестовой выборке должно быть не больше 48."
   ]
  },
  {
   "cell_type": "markdown",
   "metadata": {
    "toc": true
   },
   "source": [
    "<h1>Содержание<span class=\"tocSkip\"></span></h1>\n",
    "<div class=\"toc\"><ul class=\"toc-item\"><li><span><a href=\"#Подготовка\" data-toc-modified-id=\"Подготовка-1\"><span class=\"toc-item-num\">1&nbsp;&nbsp;</span>Подготовка</a></span></li><li><span><a href=\"#Анализ\" data-toc-modified-id=\"Анализ-2\"><span class=\"toc-item-num\">2&nbsp;&nbsp;</span>Анализ</a></span></li><li><span><a href=\"#Обучение\" data-toc-modified-id=\"Обучение-3\"><span class=\"toc-item-num\">3&nbsp;&nbsp;</span>Обучение</a></span><ul class=\"toc-item\"><li><span><a href=\"#Линейная-регрессия\" data-toc-modified-id=\"Линейная-регрессия-3.1\"><span class=\"toc-item-num\">3.1&nbsp;&nbsp;</span>Линейная регрессия</a></span></li><li><span><a href=\"#Решающее-дерево\" data-toc-modified-id=\"Решающее-дерево-3.2\"><span class=\"toc-item-num\">3.2&nbsp;&nbsp;</span>Решающее дерево</a></span></li><li><span><a href=\"#Случайный-лес\" data-toc-modified-id=\"Случайный-лес-3.3\"><span class=\"toc-item-num\">3.3&nbsp;&nbsp;</span>Случайный лес</a></span></li></ul></li><li><span><a href=\"#Тестирование\" data-toc-modified-id=\"Тестирование-4\"><span class=\"toc-item-num\">4&nbsp;&nbsp;</span>Тестирование</a></span></li></ul></div>"
   ]
  },
  {
   "cell_type": "markdown",
   "metadata": {},
   "source": [
    "## Подготовка"
   ]
  },
  {
   "cell_type": "code",
   "execution_count": 1,
   "metadata": {},
   "outputs": [],
   "source": [
    "import pandas as pd\n",
    "\n",
    "from statsmodels.tsa.seasonal import seasonal_decompose\n",
    "from sklearn.model_selection  import train_test_split\n",
    "from sklearn.linear_model     import LinearRegression\n",
    "from sklearn.tree             import DecisionTreeRegressor\n",
    "from sklearn.ensemble         import RandomForestRegressor\n",
    "from sklearn.metrics          import mean_squared_error"
   ]
  },
  {
   "cell_type": "code",
   "execution_count": 2,
   "metadata": {},
   "outputs": [],
   "source": [
    "taxi = pd.read_csv('/datasets/taxi.csv',index_col=[0], parse_dates=[0])"
   ]
  },
  {
   "cell_type": "code",
   "execution_count": 3,
   "metadata": {},
   "outputs": [
    {
     "data": {
      "text/html": [
       "<div>\n",
       "<style scoped>\n",
       "    .dataframe tbody tr th:only-of-type {\n",
       "        vertical-align: middle;\n",
       "    }\n",
       "\n",
       "    .dataframe tbody tr th {\n",
       "        vertical-align: top;\n",
       "    }\n",
       "\n",
       "    .dataframe thead th {\n",
       "        text-align: right;\n",
       "    }\n",
       "</style>\n",
       "<table border=\"1\" class=\"dataframe\">\n",
       "  <thead>\n",
       "    <tr style=\"text-align: right;\">\n",
       "      <th></th>\n",
       "      <th>num_orders</th>\n",
       "    </tr>\n",
       "    <tr>\n",
       "      <th>datetime</th>\n",
       "      <th></th>\n",
       "    </tr>\n",
       "  </thead>\n",
       "  <tbody>\n",
       "    <tr>\n",
       "      <th>2018-03-01 00:00:00</th>\n",
       "      <td>9</td>\n",
       "    </tr>\n",
       "    <tr>\n",
       "      <th>2018-03-01 00:10:00</th>\n",
       "      <td>14</td>\n",
       "    </tr>\n",
       "    <tr>\n",
       "      <th>2018-03-01 00:20:00</th>\n",
       "      <td>28</td>\n",
       "    </tr>\n",
       "    <tr>\n",
       "      <th>2018-03-01 00:30:00</th>\n",
       "      <td>20</td>\n",
       "    </tr>\n",
       "    <tr>\n",
       "      <th>2018-03-01 00:40:00</th>\n",
       "      <td>32</td>\n",
       "    </tr>\n",
       "  </tbody>\n",
       "</table>\n",
       "</div>"
      ],
      "text/plain": [
       "                     num_orders\n",
       "datetime                       \n",
       "2018-03-01 00:00:00           9\n",
       "2018-03-01 00:10:00          14\n",
       "2018-03-01 00:20:00          28\n",
       "2018-03-01 00:30:00          20\n",
       "2018-03-01 00:40:00          32"
      ]
     },
     "execution_count": 3,
     "metadata": {},
     "output_type": "execute_result"
    }
   ],
   "source": [
    "taxi.head()"
   ]
  },
  {
   "cell_type": "code",
   "execution_count": 4,
   "metadata": {
    "scrolled": true
   },
   "outputs": [
    {
     "name": "stdout",
     "output_type": "stream",
     "text": [
      "<class 'pandas.core.frame.DataFrame'>\n",
      "DatetimeIndex: 26496 entries, 2018-03-01 00:00:00 to 2018-08-31 23:50:00\n",
      "Data columns (total 1 columns):\n",
      " #   Column      Non-Null Count  Dtype\n",
      "---  ------      --------------  -----\n",
      " 0   num_orders  26496 non-null  int64\n",
      "dtypes: int64(1)\n",
      "memory usage: 414.0 KB\n"
     ]
    }
   ],
   "source": [
    "taxi.info()"
   ]
  },
  {
   "cell_type": "code",
   "execution_count": 5,
   "metadata": {},
   "outputs": [
    {
     "data": {
      "text/plain": [
       "Timestamp('2018-03-01 00:00:00')"
      ]
     },
     "execution_count": 5,
     "metadata": {},
     "output_type": "execute_result"
    }
   ],
   "source": [
    "taxi.index.min()"
   ]
  },
  {
   "cell_type": "code",
   "execution_count": 6,
   "metadata": {},
   "outputs": [
    {
     "data": {
      "text/plain": [
       "Timestamp('2018-08-31 23:50:00')"
      ]
     },
     "execution_count": 6,
     "metadata": {},
     "output_type": "execute_result"
    }
   ],
   "source": [
    "taxi.index.max()"
   ]
  },
  {
   "cell_type": "markdown",
   "metadata": {},
   "source": [
    "Сортировка по возрастанию даты"
   ]
  },
  {
   "cell_type": "code",
   "execution_count": 7,
   "metadata": {},
   "outputs": [],
   "source": [
    "taxi.sort_index(inplace=True)"
   ]
  },
  {
   "cell_type": "markdown",
   "metadata": {},
   "source": [
    "Ресемплирование по одному часу"
   ]
  },
  {
   "cell_type": "code",
   "execution_count": 8,
   "metadata": {},
   "outputs": [],
   "source": [
    "taxi = taxi.resample('1H').sum()"
   ]
  },
  {
   "cell_type": "code",
   "execution_count": 9,
   "metadata": {
    "scrolled": true
   },
   "outputs": [
    {
     "data": {
      "text/html": [
       "<div>\n",
       "<style scoped>\n",
       "    .dataframe tbody tr th:only-of-type {\n",
       "        vertical-align: middle;\n",
       "    }\n",
       "\n",
       "    .dataframe tbody tr th {\n",
       "        vertical-align: top;\n",
       "    }\n",
       "\n",
       "    .dataframe thead th {\n",
       "        text-align: right;\n",
       "    }\n",
       "</style>\n",
       "<table border=\"1\" class=\"dataframe\">\n",
       "  <thead>\n",
       "    <tr style=\"text-align: right;\">\n",
       "      <th></th>\n",
       "      <th>num_orders</th>\n",
       "    </tr>\n",
       "    <tr>\n",
       "      <th>datetime</th>\n",
       "      <th></th>\n",
       "    </tr>\n",
       "  </thead>\n",
       "  <tbody>\n",
       "    <tr>\n",
       "      <th>2018-03-01 00:00:00</th>\n",
       "      <td>124</td>\n",
       "    </tr>\n",
       "    <tr>\n",
       "      <th>2018-03-01 01:00:00</th>\n",
       "      <td>85</td>\n",
       "    </tr>\n",
       "    <tr>\n",
       "      <th>2018-03-01 02:00:00</th>\n",
       "      <td>71</td>\n",
       "    </tr>\n",
       "    <tr>\n",
       "      <th>2018-03-01 03:00:00</th>\n",
       "      <td>66</td>\n",
       "    </tr>\n",
       "    <tr>\n",
       "      <th>2018-03-01 04:00:00</th>\n",
       "      <td>43</td>\n",
       "    </tr>\n",
       "  </tbody>\n",
       "</table>\n",
       "</div>"
      ],
      "text/plain": [
       "                     num_orders\n",
       "datetime                       \n",
       "2018-03-01 00:00:00         124\n",
       "2018-03-01 01:00:00          85\n",
       "2018-03-01 02:00:00          71\n",
       "2018-03-01 03:00:00          66\n",
       "2018-03-01 04:00:00          43"
      ]
     },
     "execution_count": 9,
     "metadata": {},
     "output_type": "execute_result"
    }
   ],
   "source": [
    "taxi.head()"
   ]
  },
  {
   "cell_type": "markdown",
   "metadata": {},
   "source": [
    "## Анализ"
   ]
  },
  {
   "cell_type": "code",
   "execution_count": 10,
   "metadata": {},
   "outputs": [
    {
     "data": {
      "text/plain": [
       "<AxesSubplot:xlabel='datetime'>"
      ]
     },
     "execution_count": 10,
     "metadata": {},
     "output_type": "execute_result"
    },
    {
     "data": {
      "image/png": "[encoded data removed]",
      "text/plain": [
       "<Figure size 432x288 with 1 Axes>"
      ]
     },
     "metadata": {
      "needs_background": "light"
     },
     "output_type": "display_data"
    }
   ],
   "source": [
    "taxi.plot()"
   ]
  },
  {
   "cell_type": "markdown",
   "metadata": {},
   "source": [
    "**Замечания:**\n",
    "* среднее значение и дисперсия со временем изменяются, хоть и не сильно."
   ]
  },
  {
   "cell_type": "markdown",
   "metadata": {},
   "source": [
    "# Выводы\n",
    "* временной ряд нестационарный."
   ]
  },
  {
   "cell_type": "markdown",
   "metadata": {},
   "source": [
    "Декомпозиция временного ряда."
   ]
  },
  {
   "cell_type": "code",
   "execution_count": 11,
   "metadata": {},
   "outputs": [],
   "source": [
    "decomposed = seasonal_decompose(taxi['num_orders'])"
   ]
  },
  {
   "cell_type": "code",
   "execution_count": 12,
   "metadata": {},
   "outputs": [
    {
     "data": {
      "text/plain": [
       "<AxesSubplot:xlabel='datetime'>"
      ]
     },
     "execution_count": 12,
     "metadata": {},
     "output_type": "execute_result"
    },
    {
     "data": {
      "image/png": "[encoded data removed]",
      "text/plain": [
       "<Figure size 432x288 with 1 Axes>"
      ]
     },
     "metadata": {
      "needs_background": "light"
     },
     "output_type": "display_data"
    }
   ],
   "source": [
    "decomposed.trend.plot()"
   ]
  },
  {
   "cell_type": "code",
   "execution_count": 13,
   "metadata": {},
   "outputs": [
    {
     "data": {
      "text/plain": [
       "<AxesSubplot:xlabel='datetime'>"
      ]
     },
     "execution_count": 13,
     "metadata": {},
     "output_type": "execute_result"
    },
    {
     "data": {
      "image/png": "[encoded data removed]",
      "text/plain": [
       "<Figure size 432x288 with 1 Axes>"
      ]
     },
     "metadata": {
      "needs_background": "light"
     },
     "output_type": "display_data"
    }
   ],
   "source": [
    "decomposed.seasonal.plot()"
   ]
  },
  {
   "cell_type": "code",
   "execution_count": 14,
   "metadata": {},
   "outputs": [
    {
     "data": {
      "text/plain": [
       "<AxesSubplot:xlabel='datetime'>"
      ]
     },
     "execution_count": 14,
     "metadata": {},
     "output_type": "execute_result"
    },
    {
     "data": {
      "image/png": "[encoded data removed]",
      "text/plain": [
       "<Figure size 432x288 with 1 Axes>"
      ]
     },
     "metadata": {
      "needs_background": "light"
     },
     "output_type": "display_data"
    }
   ],
   "source": [
    "decomposed.resid.plot()"
   ]
  },
  {
   "cell_type": "markdown",
   "metadata": {},
   "source": [
    "**Замечания:**\n",
    "* на всем объеме данных (в течении полугода) графики малоинформативны."
   ]
  },
  {
   "cell_type": "markdown",
   "metadata": {},
   "source": [
    "Тренд, сезонность и остаток в течении недели."
   ]
  },
  {
   "cell_type": "code",
   "execution_count": 15,
   "metadata": {},
   "outputs": [
    {
     "data": {
      "text/plain": [
       "<AxesSubplot:xlabel='datetime'>"
      ]
     },
     "execution_count": 15,
     "metadata": {},
     "output_type": "execute_result"
    },
    {
     "data": {
      "image/png": "[encoded data removed]",
      "text/plain": [
       "<Figure size 432x288 with 1 Axes>"
      ]
     },
     "metadata": {
      "needs_background": "light"
     },
     "output_type": "display_data"
    }
   ],
   "source": [
    "decomposed.trend['2018-03-02':'2018-03-08'].plot()"
   ]
  },
  {
   "cell_type": "code",
   "execution_count": 16,
   "metadata": {},
   "outputs": [
    {
     "data": {
      "text/plain": [
       "<AxesSubplot:xlabel='datetime'>"
      ]
     },
     "execution_count": 16,
     "metadata": {},
     "output_type": "execute_result"
    },
    {
     "data": {
      "image/png": "[encoded data removed]",
      "text/plain": [
       "<Figure size 432x288 with 1 Axes>"
      ]
     },
     "metadata": {
      "needs_background": "light"
     },
     "output_type": "display_data"
    }
   ],
   "source": [
    "decomposed.seasonal['2018-03-02':'2018-03-08'].plot()"
   ]
  },
  {
   "cell_type": "code",
   "execution_count": 17,
   "metadata": {},
   "outputs": [
    {
     "data": {
      "text/plain": [
       "<AxesSubplot:xlabel='datetime'>"
      ]
     },
     "execution_count": 17,
     "metadata": {},
     "output_type": "execute_result"
    },
    {
     "data": {
      "image/png": "[encoded data removed]",
      "text/plain": [
       "<Figure size 432x288 with 1 Axes>"
      ]
     },
     "metadata": {
      "needs_background": "light"
     },
     "output_type": "display_data"
    }
   ],
   "source": [
    "decomposed.resid['2018-03-02':'2018-03-08'].plot()"
   ]
  },
  {
   "cell_type": "markdown",
   "metadata": {},
   "source": [
    "Тренд, сезонность и остаток в течении суток."
   ]
  },
  {
   "cell_type": "code",
   "execution_count": 18,
   "metadata": {},
   "outputs": [
    {
     "data": {
      "text/plain": [
       "<AxesSubplot:xlabel='datetime'>"
      ]
     },
     "execution_count": 18,
     "metadata": {},
     "output_type": "execute_result"
    },
    {
     "data": {
      "image/png": "[encoded data removed]",
      "text/plain": [
       "<Figure size 432x288 with 1 Axes>"
      ]
     },
     "metadata": {
      "needs_background": "light"
     },
     "output_type": "display_data"
    }
   ],
   "source": [
    "decomposed.trend['2018-03-02':'2018-03-02'].plot()"
   ]
  },
  {
   "cell_type": "code",
   "execution_count": 19,
   "metadata": {},
   "outputs": [
    {
     "data": {
      "text/plain": [
       "<AxesSubplot:xlabel='datetime'>"
      ]
     },
     "execution_count": 19,
     "metadata": {},
     "output_type": "execute_result"
    },
    {
     "data": {
      "image/png": "[encoded data removed]",
      "text/plain": [
       "<Figure size 432x288 with 1 Axes>"
      ]
     },
     "metadata": {
      "needs_background": "light"
     },
     "output_type": "display_data"
    }
   ],
   "source": [
    "decomposed.seasonal['2018-03-02':'2018-03-02'].plot()"
   ]
  },
  {
   "cell_type": "code",
   "execution_count": 20,
   "metadata": {},
   "outputs": [
    {
     "data": {
      "text/plain": [
       "<AxesSubplot:xlabel='datetime'>"
      ]
     },
     "execution_count": 20,
     "metadata": {},
     "output_type": "execute_result"
    },
    {
     "data": {
      "image/png": "[encoded data removed]",
      "text/plain": [
       "<Figure size 432x288 with 1 Axes>"
      ]
     },
     "metadata": {
      "needs_background": "light"
     },
     "output_type": "display_data"
    }
   ],
   "source": [
    "decomposed.resid['2018-03-02':'2018-03-02'].plot()"
   ]
  },
  {
   "cell_type": "markdown",
   "metadata": {},
   "source": [
    "**Замечания:**\n",
    "* в `тренде` наблюдается недельный период колебаний;\n",
    "* в `сезонности` наблюдается дневной период колебаний;\n",
    "* среднее колебаний `остатка` равно нулю."
   ]
  },
  {
   "cell_type": "markdown",
   "metadata": {},
   "source": [
    "\"Стационаризация\" временного ряда"
   ]
  },
  {
   "cell_type": "code",
   "execution_count": 21,
   "metadata": {},
   "outputs": [],
   "source": [
    "taxi = taxi - taxi.shift(fill_value=0)"
   ]
  },
  {
   "cell_type": "code",
   "execution_count": 22,
   "metadata": {},
   "outputs": [
    {
     "data": {
      "text/plain": [
       "<AxesSubplot:xlabel='datetime'>"
      ]
     },
     "execution_count": 22,
     "metadata": {},
     "output_type": "execute_result"
    },
    {
     "data": {
      "image/png": "[encoded data removed]",
      "text/plain": [
       "<Figure size 432x288 with 1 Axes>"
      ]
     },
     "metadata": {
      "needs_background": "light"
     },
     "output_type": "display_data"
    }
   ],
   "source": [
    "taxi.plot()"
   ]
  },
  {
   "cell_type": "markdown",
   "metadata": {},
   "source": [
    "**Замечания:**\n",
    "* среднее значение визуально стало стационарным;\n",
    "* наблюдает некоторое увеличение дисперсии со временем."
   ]
  },
  {
   "cell_type": "markdown",
   "metadata": {},
   "source": [
    "# Выводы\n",
    "* обработанный временной ряд пригоден для построения прогнозов."
   ]
  },
  {
   "cell_type": "markdown",
   "metadata": {},
   "source": [
    "## Обучение"
   ]
  },
  {
   "cell_type": "markdown",
   "metadata": {},
   "source": [
    "Функция создания признаков"
   ]
  },
  {
   "cell_type": "code",
   "execution_count": 23,
   "metadata": {},
   "outputs": [],
   "source": [
    "def make_features(data, max_lag, rolling_mean_size):\n",
    "    data['dayofweek'] = data.index.dayofweek\n",
    "    data['hour']      = data.index.hour\n",
    "    \n",
    "    for lag in range(1, max_lag + 1):\n",
    "        data['lag_{}'.format(lag)] = data['num_orders'].shift(lag)\n",
    "\n",
    "    data['rolling_mean'] = data['num_orders'].shift().rolling(rolling_mean_size).mean()"
   ]
  },
  {
   "cell_type": "markdown",
   "metadata": {},
   "source": [
    "В виду ярко выраженных суточных периодов коллебания спроса, принимаем период для расчета скользящего среднего и лаг в размере одних суток."
   ]
  },
  {
   "cell_type": "code",
   "execution_count": 24,
   "metadata": {},
   "outputs": [],
   "source": [
    "make_features(data             =taxi,\n",
    "              max_lag          =24,\n",
    "              rolling_mean_size=24)"
   ]
  },
  {
   "cell_type": "code",
   "execution_count": 25,
   "metadata": {
    "scrolled": true
   },
   "outputs": [
    {
     "name": "stdout",
     "output_type": "stream",
     "text": [
      "<class 'pandas.core.frame.DataFrame'>\n",
      "DatetimeIndex: 4416 entries, 2018-03-01 00:00:00 to 2018-08-31 23:00:00\n",
      "Freq: H\n",
      "Data columns (total 28 columns):\n",
      " #   Column        Non-Null Count  Dtype  \n",
      "---  ------        --------------  -----  \n",
      " 0   num_orders    4416 non-null   int64  \n",
      " 1   dayofweek     4416 non-null   int64  \n",
      " 2   hour          4416 non-null   int64  \n",
      " 3   lag_1         4415 non-null   float64\n",
      " 4   lag_2         4414 non-null   float64\n",
      " 5   lag_3         4413 non-null   float64\n",
      " 6   lag_4         4412 non-null   float64\n",
      " 7   lag_5         4411 non-null   float64\n",
      " 8   lag_6         4410 non-null   float64\n",
      " 9   lag_7         4409 non-null   float64\n",
      " 10  lag_8         4408 non-null   float64\n",
      " 11  lag_9         4407 non-null   float64\n",
      " 12  lag_10        4406 non-null   float64\n",
      " 13  lag_11        4405 non-null   float64\n",
      " 14  lag_12        4404 non-null   float64\n",
      " 15  lag_13        4403 non-null   float64\n",
      " 16  lag_14        4402 non-null   float64\n",
      " 17  lag_15        4401 non-null   float64\n",
      " 18  lag_16        4400 non-null   float64\n",
      " 19  lag_17        4399 non-null   float64\n",
      " 20  lag_18        4398 non-null   float64\n",
      " 21  lag_19        4397 non-null   float64\n",
      " 22  lag_20        4396 non-null   float64\n",
      " 23  lag_21        4395 non-null   float64\n",
      " 24  lag_22        4394 non-null   float64\n",
      " 25  lag_23        4393 non-null   float64\n",
      " 26  lag_24        4392 non-null   float64\n",
      " 27  rolling_mean  4392 non-null   float64\n",
      "dtypes: float64(25), int64(3)\n",
      "memory usage: 1000.5 KB\n"
     ]
    }
   ],
   "source": [
    "taxi.info()"
   ]
  },
  {
   "cell_type": "code",
   "execution_count": 26,
   "metadata": {
    "scrolled": true
   },
   "outputs": [
    {
     "data": {
      "text/plain": [
       "num_orders      0.000000\n",
       "dayofweek       0.000000\n",
       "hour            0.000000\n",
       "lag_1           0.000226\n",
       "lag_2           0.000453\n",
       "lag_3           0.000679\n",
       "lag_4           0.000906\n",
       "lag_5           0.001132\n",
       "lag_6           0.001359\n",
       "lag_7           0.001585\n",
       "lag_8           0.001812\n",
       "lag_9           0.002038\n",
       "lag_10          0.002264\n",
       "lag_11          0.002491\n",
       "lag_12          0.002717\n",
       "lag_13          0.002944\n",
       "lag_14          0.003170\n",
       "lag_15          0.003397\n",
       "lag_16          0.003623\n",
       "lag_17          0.003850\n",
       "lag_18          0.004076\n",
       "lag_19          0.004303\n",
       "lag_20          0.004529\n",
       "lag_21          0.004755\n",
       "lag_22          0.004982\n",
       "lag_23          0.005208\n",
       "lag_24          0.005435\n",
       "rolling_mean    0.005435\n",
       "dtype: float64"
      ]
     },
     "execution_count": 26,
     "metadata": {},
     "output_type": "execute_result"
    }
   ],
   "source": [
    "taxi.isna().mean()"
   ]
  },
  {
   "cell_type": "code",
   "execution_count": 27,
   "metadata": {},
   "outputs": [],
   "source": [
    "taxi.dropna(inplace=True)"
   ]
  },
  {
   "cell_type": "code",
   "execution_count": 28,
   "metadata": {},
   "outputs": [],
   "source": [
    "target   = taxi['num_orders']\n",
    "features = taxi.drop(['num_orders'],axis=1)"
   ]
  },
  {
   "cell_type": "code",
   "execution_count": 29,
   "metadata": {},
   "outputs": [],
   "source": [
    "features_train_valid, features_test, target_train_valid, target_test = train_test_split(features,\n",
    "                                                                                        target,\n",
    "                                                                                        test_size=0.1,\n",
    "                                                                                        shuffle=False)\n",
    "\n",
    "features_train, features_valid, target_train, target_valid           = train_test_split(features_train_valid,\n",
    "                                                                                        target_train_valid,\n",
    "                                                                                        test_size=0.25,\n",
    "                                                                                        shuffle=False)"
   ]
  },
  {
   "cell_type": "markdown",
   "metadata": {},
   "source": [
    "### Линейная регрессия"
   ]
  },
  {
   "cell_type": "code",
   "execution_count": 30,
   "metadata": {},
   "outputs": [],
   "source": [
    "predict_lr = (LinearRegression()\n",
    "              .fit(features_train,\n",
    "                   target_train)\n",
    "              .predict(features_valid)\n",
    "             )"
   ]
  },
  {
   "cell_type": "code",
   "execution_count": 31,
   "metadata": {},
   "outputs": [
    {
     "data": {
      "text/plain": [
       "32.38359017416189"
      ]
     },
     "execution_count": 31,
     "metadata": {},
     "output_type": "execute_result"
    }
   ],
   "source": [
    "mean_squared_error(target_valid, predict_lr, squared=False)"
   ]
  },
  {
   "cell_type": "markdown",
   "metadata": {},
   "source": [
    "### Решающее дерево"
   ]
  },
  {
   "cell_type": "code",
   "execution_count": 32,
   "metadata": {},
   "outputs": [
    {
     "name": "stdout",
     "output_type": "stream",
     "text": [
      "При глубине дерева 1 RMSE составило: 42.99007739695962\n",
      "При глубине дерева 2 RMSE составило: 39.42238697517477\n",
      "При глубине дерева 3 RMSE составило: 39.02931318020137\n",
      "При глубине дерева 4 RMSE составило: 37.40446035583222\n",
      "При глубине дерева 5 RMSE составило: 37.52192432590013\n",
      "При глубине дерева 6 RMSE составило: 37.558375733112676\n",
      "При глубине дерева 7 RMSE составило: 38.27567275921064\n",
      "При глубине дерева 8 RMSE составило: 39.63837304177441\n",
      "При глубине дерева 9 RMSE составило: 39.859085796475604\n",
      "\n",
      "----- Лучший результат -----\n",
      "RMSE:               37.40\n",
      "при глубине дерева: 4\n"
     ]
    }
   ],
   "source": [
    "best_dtr_rmse  = 48\n",
    "best_dtr_depth = 1000\n",
    "\n",
    "for depth in range (1, 10, 1):\n",
    "    predict_dtr = (DecisionTreeRegressor(max_depth   =depth,\n",
    "                                         random_state=0)\n",
    "                   .fit(features_train,\n",
    "                        target_train)\n",
    "                   .predict(features_valid)\n",
    "                  )\n",
    "    \n",
    "    dtr_rmse = mean_squared_error(target_valid, predict_dtr, squared=False)\n",
    "    \n",
    "    print(\n",
    "          'При глубине дерева {} RMSE составило: {}'\n",
    "          .format(depth,\n",
    "                  dtr_rmse)\n",
    "         )\n",
    "    \n",
    "    if dtr_rmse < best_dtr_rmse:\n",
    "        best_dtr_rmse  = dtr_rmse\n",
    "        best_dtr_depth = depth\n",
    "\n",
    "print()\n",
    "print('----- Лучший результат -----')\n",
    "print('RMSE:               {:.2f}'.format(best_dtr_rmse))\n",
    "print('при глубине дерева: {}'    .format(best_dtr_depth))"
   ]
  },
  {
   "cell_type": "markdown",
   "metadata": {},
   "source": [
    "### Случайный лес"
   ]
  },
  {
   "cell_type": "code",
   "execution_count": 33,
   "metadata": {
    "scrolled": true
   },
   "outputs": [
    {
     "name": "stdout",
     "output_type": "stream",
     "text": [
      "При глубине 1 и количестве деревьев 10 RMSE составило: 42.90230415958865\n",
      "При глубине 2 и количестве деревьев 10 RMSE составило: 39.15598730440789\n",
      "При глубине 3 и количестве деревьев 10 RMSE составило: 37.88197879922548\n",
      "При глубине 4 и количестве деревьев 10 RMSE составило: 36.02714557098098\n",
      "При глубине 5 и количестве деревьев 10 RMSE составило: 35.28764943391466\n",
      "При глубине 1 и количестве деревьев 15 RMSE составило: 42.81629556321991\n",
      "При глубине 2 и количестве деревьев 15 RMSE составило: 38.961727630005385\n",
      "При глубине 3 и количестве деревьев 15 RMSE составило: 37.757406325246926\n",
      "При глубине 4 и количестве деревьев 15 RMSE составило: 35.92663544579101\n",
      "При глубине 5 и количестве деревьев 15 RMSE составило: 35.1111545381126\n",
      "При глубине 1 и количестве деревьев 20 RMSE составило: 42.81130342256441\n",
      "При глубине 2 и количестве деревьев 20 RMSE составило: 38.97714047926923\n",
      "При глубине 3 и количестве деревьев 20 RMSE составило: 37.70332152021126\n",
      "При глубине 4 и количестве деревьев 20 RMSE составило: 35.911212496344184\n",
      "При глубине 5 и количестве деревьев 20 RMSE составило: 35.0130036612637\n",
      "При глубине 1 и количестве деревьев 25 RMSE составило: 42.816557941623834\n",
      "При глубине 2 и количестве деревьев 25 RMSE составило: 38.96629862780106\n",
      "При глубине 3 и количестве деревьев 25 RMSE составило: 37.65279887935434\n",
      "При глубине 4 и количестве деревьев 25 RMSE составило: 35.90333059930825\n",
      "При глубине 5 и количестве деревьев 25 RMSE составило: 35.07514855998528\n",
      "При глубине 1 и количестве деревьев 30 RMSE составило: 42.823999727548845\n",
      "При глубине 2 и количестве деревьев 30 RMSE составило: 38.970545524417936\n",
      "При глубине 3 и количестве деревьев 30 RMSE составило: 37.683676082982394\n",
      "При глубине 4 и количестве деревьев 30 RMSE составило: 35.96024794943383\n",
      "При глубине 5 и количестве деревьев 30 RMSE составило: 35.08600920880676\n",
      "При глубине 1 и количестве деревьев 35 RMSE составило: 42.79871347465122\n",
      "При глубине 2 и количестве деревьев 35 RMSE составило: 38.92521773235996\n",
      "При глубине 3 и количестве деревьев 35 RMSE составило: 37.63981069924832\n",
      "При глубине 4 и количестве деревьев 35 RMSE составило: 35.953068549215054\n",
      "При глубине 5 и количестве деревьев 35 RMSE составило: 35.060329424104985\n",
      "При глубине 1 и количестве деревьев 40 RMSE составило: 42.80470930090019\n",
      "При глубине 2 и количестве деревьев 40 RMSE составило: 38.94378940607475\n",
      "При глубине 3 и количестве деревьев 40 RMSE составило: 37.64590698910677\n",
      "При глубине 4 и количестве деревьев 40 RMSE составило: 35.9433413002296\n",
      "При глубине 5 и количестве деревьев 40 RMSE составило: 35.07320375624912\n",
      "При глубине 1 и количестве деревьев 45 RMSE составило: 42.7878307308443\n",
      "При глубине 2 и количестве деревьев 45 RMSE составило: 38.923865951430706\n",
      "При глубине 3 и количестве деревьев 45 RMSE составило: 37.66594663420565\n",
      "При глубине 4 и количестве деревьев 45 RMSE составило: 35.937306268355854\n",
      "При глубине 5 и количестве деревьев 45 RMSE составило: 35.128826194466924\n",
      "При глубине 1 и количестве деревьев 50 RMSE составило: 42.78250889149708\n",
      "При глубине 2 и количестве деревьев 50 RMSE составило: 38.91677320635558\n",
      "При глубине 3 и количестве деревьев 50 RMSE составило: 37.66470358917494\n",
      "При глубине 4 и количестве деревьев 50 RMSE составило: 35.91570204090616\n",
      "При глубине 5 и количестве деревьев 50 RMSE составило: 35.10737497641305\n",
      "При глубине 1 и количестве деревьев 55 RMSE составило: 42.78826541668784\n",
      "При глубине 2 и количестве деревьев 55 RMSE составило: 38.92202304106281\n",
      "При глубине 3 и количестве деревьев 55 RMSE составило: 37.672159111192585\n",
      "При глубине 4 и количестве деревьев 55 RMSE составило: 35.89151750970556\n",
      "При глубине 5 и количестве деревьев 55 RMSE составило: 35.064228184206115\n",
      "При глубине 1 и количестве деревьев 60 RMSE составило: 42.79387644247197\n",
      "При глубине 2 и количестве деревьев 60 RMSE составило: 38.9241778249079\n",
      "При глубине 3 и количестве деревьев 60 RMSE составило: 37.65811334299917\n",
      "При глубине 4 и количестве деревьев 60 RMSE составило: 35.878023177841754\n",
      "При глубине 5 и количестве деревьев 60 RMSE составило: 35.05850755162926\n",
      "При глубине 1 и количестве деревьев 65 RMSE составило: 42.79620249968921\n",
      "При глубине 2 и количестве деревьев 65 RMSE составило: 38.93245862970942\n",
      "При глубине 3 и количестве деревьев 65 RMSE составило: 37.66364579766878\n",
      "При глубине 4 и количестве деревьев 65 RMSE составило: 35.90547364588311\n",
      "При глубине 5 и количестве деревьев 65 RMSE составило: 35.088827929995816\n",
      "При глубине 1 и количестве деревьев 70 RMSE составило: 42.799702262011685\n",
      "При глубине 2 и количестве деревьев 70 RMSE составило: 38.92979500819885\n",
      "При глубине 3 и количестве деревьев 70 RMSE составило: 37.66845241798695\n",
      "При глубине 4 и количестве деревьев 70 RMSE составило: 35.93456513962524\n",
      "При глубине 5 и количестве деревьев 70 RMSE составило: 35.094472808657635\n",
      "При глубине 1 и количестве деревьев 75 RMSE составило: 42.79579239542855\n",
      "При глубине 2 и количестве деревьев 75 RMSE составило: 38.92435883834905\n",
      "При глубине 3 и количестве деревьев 75 RMSE составило: 37.65578949474846\n",
      "При глубине 4 и количестве деревьев 75 RMSE составило: 35.93730590397259\n",
      "При глубине 5 и количестве деревьев 75 RMSE составило: 35.082560580261884\n",
      "При глубине 1 и количестве деревьев 80 RMSE составило: 42.79377663799151\n",
      "При глубине 2 и количестве деревьев 80 RMSE составило: 38.91979944306933\n",
      "При глубине 3 и количестве деревьев 80 RMSE составило: 37.68031686387135\n",
      "При глубине 4 и количестве деревьев 80 RMSE составило: 35.957871086487074\n",
      "При глубине 5 и количестве деревьев 80 RMSE составило: 35.110989491694596\n",
      "При глубине 1 и количестве деревьев 85 RMSE составило: 42.796069527003404\n",
      "При глубине 2 и количестве деревьев 85 RMSE составило: 38.932111890899264\n",
      "При глубине 3 и количестве деревьев 85 RMSE составило: 37.7091835884421\n",
      "При глубине 4 и количестве деревьев 85 RMSE составило: 35.979855662674765\n",
      "При глубине 5 и количестве деревьев 85 RMSE составило: 35.11870575809015\n",
      "При глубине 1 и количестве деревьев 90 RMSE составило: 42.79106623401101\n",
      "При глубине 2 и количестве деревьев 90 RMSE составило: 38.92800439450077\n",
      "При глубине 3 и количестве деревьев 90 RMSE составило: 37.69550228862214\n",
      "При глубине 4 и количестве деревьев 90 RMSE составило: 35.963284931343026\n",
      "При глубине 5 и количестве деревьев 90 RMSE составило: 35.12870231716422\n",
      "При глубине 1 и количестве деревьев 95 RMSE составило: 42.79775355459161\n",
      "При глубине 2 и количестве деревьев 95 RMSE составило: 38.93839784513246\n",
      "При глубине 3 и количестве деревьев 95 RMSE составило: 37.70700131454327\n",
      "При глубине 4 и количестве деревьев 95 RMSE составило: 35.977818778894424\n",
      "При глубине 5 и количестве деревьев 95 RMSE составило: 35.14522203511152\n",
      "\n",
      "----- Лучший результат -----\n",
      "RMSE:                   35.01\n",
      "при глубине деревьев:   5\n",
      "и при кол-ве оценщиков: 20\n"
     ]
    }
   ],
   "source": [
    "best_rfr_rmse         = 48\n",
    "best_rfr_depth        = 1000\n",
    "best_rfr_n_estimators = 1000\n",
    "\n",
    "for n_estimator in range (10, 100, 5):\n",
    "    for depth in range (1, 6, 1):\n",
    "        predict_rfr = (RandomForestRegressor(max_depth   =depth,\n",
    "                                             n_estimators=n_estimator,\n",
    "                                             random_state=0)\n",
    "                       .fit(features_train,\n",
    "                            target_train)\n",
    "                       .predict(features_valid)\n",
    "                      )\n",
    "        \n",
    "        rfr_rmse = mean_squared_error(target_valid, predict_rfr, squared=False)\n",
    "        \n",
    "        print(\n",
    "              'При глубине {} и количестве деревьев {} RMSE составило: {}'\n",
    "              .format(depth,\n",
    "                      n_estimator,\n",
    "                      rfr_rmse)\n",
    "             )\n",
    "        \n",
    "        if rfr_rmse < best_rfr_rmse:\n",
    "            best_rfr_rmse = rfr_rmse\n",
    "            best_rfr_depth = depth\n",
    "            best_rfr_n_estimators = n_estimator\n",
    "\n",
    "print()\n",
    "print('----- Лучший результат -----')\n",
    "print('RMSE:                   {:.2f}'.format(best_rfr_rmse))\n",
    "print('при глубине деревьев:   {}'    .format(best_rfr_depth))\n",
    "print('и при кол-ве оценщиков: {}'    .format(best_rfr_n_estimators))"
   ]
  },
  {
   "cell_type": "markdown",
   "metadata": {},
   "source": [
    "## Тестирование"
   ]
  },
  {
   "cell_type": "markdown",
   "metadata": {},
   "source": [
    "Лучшее по качеству предсказание из рассмотренных моделей показала модель `Линейной регрессии`."
   ]
  },
  {
   "cell_type": "code",
   "execution_count": 34,
   "metadata": {},
   "outputs": [],
   "source": [
    "lr_model = LinearRegression()"
   ]
  },
  {
   "cell_type": "code",
   "execution_count": 35,
   "metadata": {},
   "outputs": [
    {
     "data": {
      "text/plain": [
       "LinearRegression()"
      ]
     },
     "execution_count": 35,
     "metadata": {},
     "output_type": "execute_result"
    }
   ],
   "source": [
    "lr_model.fit(features_train_valid, \n",
    "                  target_train_valid)"
   ]
  },
  {
   "cell_type": "code",
   "execution_count": 36,
   "metadata": {},
   "outputs": [],
   "source": [
    "best_lr_predict = pd.Series(data =lr_model.predict(features_test),\n",
    "                            index=features_test.index)"
   ]
  },
  {
   "cell_type": "code",
   "execution_count": 37,
   "metadata": {
    "scrolled": true
   },
   "outputs": [
    {
     "data": {
      "text/plain": [
       "45.12140764944219"
      ]
     },
     "execution_count": 37,
     "metadata": {},
     "output_type": "execute_result"
    }
   ],
   "source": [
    "mean_squared_error(target_test, best_lr_predict, squared=False)"
   ]
  },
  {
   "cell_type": "code",
   "execution_count": 38,
   "metadata": {},
   "outputs": [
    {
     "data": {
      "text/plain": [
       "<AxesSubplot:xlabel='datetime'>"
      ]
     },
     "execution_count": 38,
     "metadata": {},
     "output_type": "execute_result"
    },
    {
     "data": {
      "image/png": "[encoded data removed]",
      "text/plain": [
       "<Figure size 432x288 with 1 Axes>"
      ]
     },
     "metadata": {
      "needs_background": "light"
     },
     "output_type": "display_data"
    }
   ],
   "source": [
    "target_test    ['2018-08-14':'2018-08-15'].plot()\n",
    "best_lr_predict['2018-08-14':'2018-08-15'].plot()"
   ]
  },
  {
   "cell_type": "markdown",
   "metadata": {},
   "source": [
    "**Замечания:**\n",
    "* на тестовой выборке лучшая по качеству предсказания модель из рассмотренных показала удовлитворительный результат (RMSE менее 48)."
   ]
  },
  {
   "cell_type": "markdown",
   "metadata": {},
   "source": [
    "Второе по качеству предсказание из рассмотренных моделей показала модель `Случайного леса` при глубине `5` и количестве деревьев `20`."
   ]
  },
  {
   "cell_type": "code",
   "execution_count": 39,
   "metadata": {},
   "outputs": [],
   "source": [
    "best_rfr_model = RandomForestRegressor(max_depth   =5,\n",
    "                                       n_estimators=20,\n",
    "                                       random_state=0)"
   ]
  },
  {
   "cell_type": "code",
   "execution_count": 40,
   "metadata": {},
   "outputs": [
    {
     "data": {
      "text/plain": [
       "RandomForestRegressor(max_depth=5, n_estimators=20, random_state=0)"
      ]
     },
     "execution_count": 40,
     "metadata": {},
     "output_type": "execute_result"
    }
   ],
   "source": [
    "best_rfr_model.fit(features_train_valid, \n",
    "                   target_train_valid)"
   ]
  },
  {
   "cell_type": "code",
   "execution_count": 41,
   "metadata": {},
   "outputs": [],
   "source": [
    "best_rfr_predict = pd.Series(data =best_rfr_model.predict(features_test),\n",
    "                             index=features_test.index)"
   ]
  },
  {
   "cell_type": "code",
   "execution_count": 42,
   "metadata": {
    "scrolled": true
   },
   "outputs": [
    {
     "data": {
      "text/plain": [
       "48.884712802190606"
      ]
     },
     "execution_count": 42,
     "metadata": {},
     "output_type": "execute_result"
    }
   ],
   "source": [
    "mean_squared_error(target_test, best_rfr_predict, squared=False)"
   ]
  },
  {
   "cell_type": "code",
   "execution_count": 43,
   "metadata": {},
   "outputs": [
    {
     "data": {
      "text/plain": [
       "<AxesSubplot:xlabel='datetime'>"
      ]
     },
     "execution_count": 43,
     "metadata": {},
     "output_type": "execute_result"
    },
    {
     "data": {
      "image/png": "[encoded data removed]",
      "text/plain": [
       "<Figure size 432x288 with 1 Axes>"
      ]
     },
     "metadata": {
      "needs_background": "light"
     },
     "output_type": "display_data"
    }
   ],
   "source": [
    "target_test     ['2018-08-14':'2018-08-15'].plot()\n",
    "best_rfr_predict['2018-08-14':'2018-08-15'].plot()"
   ]
  },
  {
   "cell_type": "markdown",
   "metadata": {},
   "source": [
    "**Замечания:**\n",
    "* на тестовой выборке вторая по качеству предсказания модель из рассмотренных показала неудовлитворительный результат (RMSE более 48)."
   ]
  },
  {
   "cell_type": "markdown",
   "metadata": {},
   "source": [
    "Последняя по качеству предсказания из рассмотренных моделей оказалась модель `Решающего дерева` при глубине дерева `4`."
   ]
  },
  {
   "cell_type": "code",
   "execution_count": 44,
   "metadata": {},
   "outputs": [],
   "source": [
    "best_dtr_model = DecisionTreeRegressor(max_depth   =4,\n",
    "                                       random_state=0)"
   ]
  },
  {
   "cell_type": "code",
   "execution_count": 45,
   "metadata": {},
   "outputs": [
    {
     "data": {
      "text/plain": [
       "DecisionTreeRegressor(max_depth=4, random_state=0)"
      ]
     },
     "execution_count": 45,
     "metadata": {},
     "output_type": "execute_result"
    }
   ],
   "source": [
    "best_dtr_model.fit(features_train_valid, \n",
    "                   target_train_valid)"
   ]
  },
  {
   "cell_type": "code",
   "execution_count": 46,
   "metadata": {},
   "outputs": [],
   "source": [
    "best_dtr_predict = pd.Series(data =best_dtr_model.predict(features_test),\n",
    "                             index=features_test.index)"
   ]
  },
  {
   "cell_type": "code",
   "execution_count": 47,
   "metadata": {
    "scrolled": true
   },
   "outputs": [
    {
     "data": {
      "text/plain": [
       "50.34747960426802"
      ]
     },
     "execution_count": 47,
     "metadata": {},
     "output_type": "execute_result"
    }
   ],
   "source": [
    "mean_squared_error(target_test, best_dtr_predict, squared=False)"
   ]
  },
  {
   "cell_type": "code",
   "execution_count": 48,
   "metadata": {},
   "outputs": [
    {
     "data": {
      "text/plain": [
       "<AxesSubplot:xlabel='datetime'>"
      ]
     },
     "execution_count": 48,
     "metadata": {},
     "output_type": "execute_result"
    },
    {
     "data": {
      "image/png": "[encoded data removed]",
      "text/plain": [
       "<Figure size 432x288 with 1 Axes>"
      ]
     },
     "metadata": {
      "needs_background": "light"
     },
     "output_type": "display_data"
    }
   ],
   "source": [
    "target_test     ['2018-08-14':'2018-08-15'].plot()\n",
    "best_dtr_predict['2018-08-14':'2018-08-15'].plot()"
   ]
  },
  {
   "cell_type": "markdown",
   "metadata": {},
   "source": [
    "**Замечания:**\n",
    "* на тестовой выборке последняя по качеству предсказания модель из рассмотренных показала неудовлитворительный результат (RMSE более 48)."
   ]
  },
  {
   "cell_type": "markdown",
   "metadata": {},
   "source": [
    "# Выводы\n",
    "* при прогнозировании спроса на такси рекомендуется использовать модель линейной регрессии;\n",
    "* при подготовке данных для модели рекомендуется использовать период в одни сутки для расчета скользящего среднего и для лага."
   ]
  }
 ],
 "metadata": {
  "ExecuteTimeLog": [
   {
    "duration": 372,
    "start_time": "2022-06-11T09:32:31.822Z"
   },
   {
    "duration": 120,
    "start_time": "2022-06-11T09:38:07.604Z"
   },
   {
    "duration": 129,
    "start_time": "2022-06-11T09:38:26.443Z"
   },
   {
    "duration": 11,
    "start_time": "2022-06-11T09:38:49.564Z"
   },
   {
    "duration": 41,
    "start_time": "2022-06-11T10:49:24.312Z"
   },
   {
    "duration": 10,
    "start_time": "2022-06-11T10:49:25.026Z"
   },
   {
    "duration": 13,
    "start_time": "2022-06-11T10:49:42.048Z"
   },
   {
    "duration": 9,
    "start_time": "2022-06-11T11:38:30.522Z"
   },
   {
    "duration": 7,
    "start_time": "2022-06-11T11:39:07.001Z"
   },
   {
    "duration": 7,
    "start_time": "2022-06-11T11:39:24.672Z"
   },
   {
    "duration": 3,
    "start_time": "2022-06-11T11:41:00.422Z"
   },
   {
    "duration": 20,
    "start_time": "2022-06-11T11:42:13.419Z"
   },
   {
    "duration": 11,
    "start_time": "2022-06-11T11:42:43.541Z"
   },
   {
    "duration": 388,
    "start_time": "2022-06-11T11:42:58.744Z"
   },
   {
    "duration": 43,
    "start_time": "2022-06-11T11:42:59.133Z"
   },
   {
    "duration": 11,
    "start_time": "2022-06-11T11:42:59.177Z"
   },
   {
    "duration": 9,
    "start_time": "2022-06-11T11:42:59.190Z"
   },
   {
    "duration": 4,
    "start_time": "2022-06-11T11:42:59.201Z"
   },
   {
    "duration": 15,
    "start_time": "2022-06-11T11:42:59.206Z"
   },
   {
    "duration": 9,
    "start_time": "2022-06-11T11:42:59.223Z"
   },
   {
    "duration": 74,
    "start_time": "2022-06-11T11:42:59.233Z"
   },
   {
    "duration": 9,
    "start_time": "2022-06-11T11:45:07.035Z"
   },
   {
    "duration": 42,
    "start_time": "2022-06-11T11:45:40.055Z"
   },
   {
    "duration": 6,
    "start_time": "2022-06-11T11:45:41.374Z"
   },
   {
    "duration": 11,
    "start_time": "2022-06-11T11:45:43.184Z"
   },
   {
    "duration": 4,
    "start_time": "2022-06-11T11:45:44.143Z"
   },
   {
    "duration": 3,
    "start_time": "2022-06-11T11:45:47.345Z"
   },
   {
    "duration": 2,
    "start_time": "2022-06-11T11:45:50.023Z"
   },
   {
    "duration": 7,
    "start_time": "2022-06-11T11:45:51.954Z"
   },
   {
    "duration": 544,
    "start_time": "2022-06-11T11:47:03.124Z"
   },
   {
    "duration": 8,
    "start_time": "2022-06-11T11:47:32.959Z"
   },
   {
    "duration": 15,
    "start_time": "2022-06-11T11:52:12.079Z"
   },
   {
    "duration": 504,
    "start_time": "2022-06-11T11:52:42.605Z"
   },
   {
    "duration": 7,
    "start_time": "2022-06-11T11:52:48.334Z"
   },
   {
    "duration": 7,
    "start_time": "2022-06-11T11:53:50.230Z"
   },
   {
    "duration": 6,
    "start_time": "2022-06-11T11:54:24.341Z"
   },
   {
    "duration": 33,
    "start_time": "2022-06-11T11:55:29.004Z"
   },
   {
    "duration": 8,
    "start_time": "2022-06-11T11:55:47.295Z"
   },
   {
    "duration": 6,
    "start_time": "2022-06-11T11:55:55.823Z"
   },
   {
    "duration": 174,
    "start_time": "2022-06-11T11:56:10.425Z"
   },
   {
    "duration": 220,
    "start_time": "2022-06-11T11:56:54.285Z"
   },
   {
    "duration": 174,
    "start_time": "2022-06-11T11:57:10.988Z"
   },
   {
    "duration": 266,
    "start_time": "2022-06-11T11:57:18.035Z"
   },
   {
    "duration": 186,
    "start_time": "2022-06-11T11:57:30.214Z"
   },
   {
    "duration": 118,
    "start_time": "2022-06-11T12:36:45.041Z"
   },
   {
    "duration": 228,
    "start_time": "2022-06-11T12:37:07.581Z"
   },
   {
    "duration": 112,
    "start_time": "2022-06-11T12:40:49.615Z"
   },
   {
    "duration": 127,
    "start_time": "2022-06-11T12:41:09.301Z"
   },
   {
    "duration": 142,
    "start_time": "2022-06-11T12:41:22.188Z"
   },
   {
    "duration": 112,
    "start_time": "2022-06-11T12:41:58.903Z"
   },
   {
    "duration": 120,
    "start_time": "2022-06-11T12:42:00.043Z"
   },
   {
    "duration": 191,
    "start_time": "2022-06-11T12:43:10.091Z"
   },
   {
    "duration": 120,
    "start_time": "2022-06-11T12:43:19.153Z"
   },
   {
    "duration": 112,
    "start_time": "2022-06-11T12:43:25.222Z"
   },
   {
    "duration": 4,
    "start_time": "2022-06-11T12:50:33.565Z"
   },
   {
    "duration": 180,
    "start_time": "2022-06-11T12:50:44.635Z"
   },
   {
    "duration": 8,
    "start_time": "2022-06-11T13:00:17.702Z"
   },
   {
    "duration": 3,
    "start_time": "2022-06-11T13:04:15.485Z"
   },
   {
    "duration": 428,
    "start_time": "2022-06-11T13:05:06.651Z"
   },
   {
    "duration": 4,
    "start_time": "2022-06-11T13:05:49.785Z"
   },
   {
    "duration": 7,
    "start_time": "2022-06-11T13:05:51.442Z"
   },
   {
    "duration": 7,
    "start_time": "2022-06-11T13:07:12.941Z"
   },
   {
    "duration": 184,
    "start_time": "2022-06-11T13:07:20.473Z"
   },
   {
    "duration": 13,
    "start_time": "2022-06-11T13:07:38.501Z"
   },
   {
    "duration": 11,
    "start_time": "2022-06-11T13:10:11.421Z"
   },
   {
    "duration": 7,
    "start_time": "2022-06-11T13:10:20.112Z"
   },
   {
    "duration": 828,
    "start_time": "2022-06-11T13:10:30.288Z"
   },
   {
    "duration": 42,
    "start_time": "2022-06-11T13:10:31.118Z"
   },
   {
    "duration": 11,
    "start_time": "2022-06-11T13:10:31.162Z"
   },
   {
    "duration": 8,
    "start_time": "2022-06-11T13:10:31.175Z"
   },
   {
    "duration": 3,
    "start_time": "2022-06-11T13:10:31.186Z"
   },
   {
    "duration": 4,
    "start_time": "2022-06-11T13:10:31.191Z"
   },
   {
    "duration": 7,
    "start_time": "2022-06-11T13:10:31.197Z"
   },
   {
    "duration": 10,
    "start_time": "2022-06-11T13:10:31.206Z"
   },
   {
    "duration": 5,
    "start_time": "2022-06-11T13:10:31.218Z"
   },
   {
    "duration": 400,
    "start_time": "2022-06-11T13:10:31.224Z"
   },
   {
    "duration": 5,
    "start_time": "2022-06-11T13:10:31.626Z"
   },
   {
    "duration": 188,
    "start_time": "2022-06-11T13:10:31.632Z"
   },
   {
    "duration": 201,
    "start_time": "2022-06-11T13:10:31.822Z"
   },
   {
    "duration": 190,
    "start_time": "2022-06-11T13:10:32.026Z"
   },
   {
    "duration": 118,
    "start_time": "2022-06-11T13:10:32.217Z"
   },
   {
    "duration": 186,
    "start_time": "2022-06-11T13:10:32.337Z"
   },
   {
    "duration": 128,
    "start_time": "2022-06-11T13:10:32.524Z"
   },
   {
    "duration": 135,
    "start_time": "2022-06-11T13:10:32.654Z"
   },
   {
    "duration": 128,
    "start_time": "2022-06-11T13:10:32.790Z"
   },
   {
    "duration": 118,
    "start_time": "2022-06-11T13:10:32.920Z"
   },
   {
    "duration": 3,
    "start_time": "2022-06-11T13:10:33.040Z"
   },
   {
    "duration": 199,
    "start_time": "2022-06-11T13:10:33.044Z"
   },
   {
    "duration": 4,
    "start_time": "2022-06-11T13:10:33.244Z"
   },
   {
    "duration": 13,
    "start_time": "2022-06-11T13:10:33.249Z"
   },
   {
    "duration": 17,
    "start_time": "2022-06-11T13:10:33.264Z"
   },
   {
    "duration": 84,
    "start_time": "2022-06-11T13:10:33.282Z"
   },
   {
    "duration": 0,
    "start_time": "2022-06-11T13:10:33.378Z"
   },
   {
    "duration": 813,
    "start_time": "2022-06-11T13:11:03.272Z"
   },
   {
    "duration": 43,
    "start_time": "2022-06-11T13:11:04.087Z"
   },
   {
    "duration": 13,
    "start_time": "2022-06-11T13:11:04.132Z"
   },
   {
    "duration": 22,
    "start_time": "2022-06-11T13:11:04.148Z"
   },
   {
    "duration": 4,
    "start_time": "2022-06-11T13:11:04.171Z"
   },
   {
    "duration": 9,
    "start_time": "2022-06-11T13:11:04.177Z"
   },
   {
    "duration": 9,
    "start_time": "2022-06-11T13:11:04.187Z"
   },
   {
    "duration": 13,
    "start_time": "2022-06-11T13:11:04.197Z"
   },
   {
    "duration": 9,
    "start_time": "2022-06-11T13:11:04.211Z"
   },
   {
    "duration": 373,
    "start_time": "2022-06-11T13:11:04.222Z"
   },
   {
    "duration": 6,
    "start_time": "2022-06-11T13:11:04.596Z"
   },
   {
    "duration": 193,
    "start_time": "2022-06-11T13:11:04.604Z"
   },
   {
    "duration": 188,
    "start_time": "2022-06-11T13:11:04.799Z"
   },
   {
    "duration": 178,
    "start_time": "2022-06-11T13:11:04.988Z"
   },
   {
    "duration": 116,
    "start_time": "2022-06-11T13:11:05.168Z"
   },
   {
    "duration": 186,
    "start_time": "2022-06-11T13:11:05.285Z"
   },
   {
    "duration": 129,
    "start_time": "2022-06-11T13:11:05.478Z"
   },
   {
    "duration": 118,
    "start_time": "2022-06-11T13:11:05.609Z"
   },
   {
    "duration": 128,
    "start_time": "2022-06-11T13:11:05.728Z"
   },
   {
    "duration": 127,
    "start_time": "2022-06-11T13:11:05.858Z"
   },
   {
    "duration": 4,
    "start_time": "2022-06-11T13:11:05.986Z"
   },
   {
    "duration": 205,
    "start_time": "2022-06-11T13:11:05.991Z"
   },
   {
    "duration": 3,
    "start_time": "2022-06-11T13:11:06.198Z"
   },
   {
    "duration": 20,
    "start_time": "2022-06-11T13:11:06.202Z"
   },
   {
    "duration": 10,
    "start_time": "2022-06-11T13:11:06.224Z"
   },
   {
    "duration": 88,
    "start_time": "2022-06-11T13:11:06.236Z"
   },
   {
    "duration": 0,
    "start_time": "2022-06-11T13:11:06.325Z"
   },
   {
    "duration": 5,
    "start_time": "2022-06-11T13:12:26.319Z"
   },
   {
    "duration": 35,
    "start_time": "2022-06-11T13:14:04.706Z"
   },
   {
    "duration": 8,
    "start_time": "2022-06-11T13:15:09.409Z"
   },
   {
    "duration": 197,
    "start_time": "2022-06-11T13:15:38.992Z"
   },
   {
    "duration": 5,
    "start_time": "2022-06-11T13:15:44.658Z"
   },
   {
    "duration": 7,
    "start_time": "2022-06-11T13:16:58.350Z"
   },
   {
    "duration": 5,
    "start_time": "2022-06-11T13:17:42.717Z"
   },
   {
    "duration": 6,
    "start_time": "2022-06-11T13:17:53.008Z"
   },
   {
    "duration": 116,
    "start_time": "2022-06-11T13:24:09.594Z"
   },
   {
    "duration": 26,
    "start_time": "2022-06-11T13:24:26.467Z"
   },
   {
    "duration": 12,
    "start_time": "2022-06-11T13:28:23.356Z"
   },
   {
    "duration": 971,
    "start_time": "2022-06-11T13:29:31.126Z"
   },
   {
    "duration": 47,
    "start_time": "2022-06-11T13:29:32.099Z"
   },
   {
    "duration": 11,
    "start_time": "2022-06-11T13:29:32.148Z"
   },
   {
    "duration": 17,
    "start_time": "2022-06-11T13:29:32.160Z"
   },
   {
    "duration": 4,
    "start_time": "2022-06-11T13:29:32.178Z"
   },
   {
    "duration": 8,
    "start_time": "2022-06-11T13:29:32.183Z"
   },
   {
    "duration": 14,
    "start_time": "2022-06-11T13:29:32.192Z"
   },
   {
    "duration": 11,
    "start_time": "2022-06-11T13:29:32.207Z"
   },
   {
    "duration": 9,
    "start_time": "2022-06-11T13:29:32.220Z"
   },
   {
    "duration": 387,
    "start_time": "2022-06-11T13:29:32.231Z"
   },
   {
    "duration": 7,
    "start_time": "2022-06-11T13:29:32.620Z"
   },
   {
    "duration": 181,
    "start_time": "2022-06-11T13:29:32.628Z"
   },
   {
    "duration": 253,
    "start_time": "2022-06-11T13:29:32.811Z"
   },
   {
    "duration": 185,
    "start_time": "2022-06-11T13:29:33.065Z"
   },
   {
    "duration": 119,
    "start_time": "2022-06-11T13:29:33.251Z"
   },
   {
    "duration": 117,
    "start_time": "2022-06-11T13:29:33.378Z"
   },
   {
    "duration": 132,
    "start_time": "2022-06-11T13:29:33.496Z"
   },
   {
    "duration": 121,
    "start_time": "2022-06-11T13:29:33.630Z"
   },
   {
    "duration": 134,
    "start_time": "2022-06-11T13:29:33.752Z"
   },
   {
    "duration": 120,
    "start_time": "2022-06-11T13:29:33.887Z"
   },
   {
    "duration": 3,
    "start_time": "2022-06-11T13:29:34.009Z"
   },
   {
    "duration": 193,
    "start_time": "2022-06-11T13:29:34.013Z"
   },
   {
    "duration": 4,
    "start_time": "2022-06-11T13:29:34.208Z"
   },
   {
    "duration": 18,
    "start_time": "2022-06-11T13:29:34.213Z"
   },
   {
    "duration": 10,
    "start_time": "2022-06-11T13:29:34.232Z"
   },
   {
    "duration": 6,
    "start_time": "2022-06-11T13:29:34.243Z"
   },
   {
    "duration": 5,
    "start_time": "2022-06-11T13:29:34.250Z"
   },
   {
    "duration": 3,
    "start_time": "2022-06-11T13:29:34.258Z"
   },
   {
    "duration": 21,
    "start_time": "2022-06-11T13:29:34.262Z"
   },
   {
    "duration": 14,
    "start_time": "2022-06-11T13:29:34.284Z"
   },
   {
    "duration": 30,
    "start_time": "2022-06-11T13:29:34.299Z"
   },
   {
    "duration": 1019,
    "start_time": "2022-06-11T13:30:07.679Z"
   },
   {
    "duration": 45,
    "start_time": "2022-06-11T13:30:08.700Z"
   },
   {
    "duration": 12,
    "start_time": "2022-06-11T13:30:08.746Z"
   },
   {
    "duration": 14,
    "start_time": "2022-06-11T13:30:08.760Z"
   },
   {
    "duration": 4,
    "start_time": "2022-06-11T13:30:08.776Z"
   },
   {
    "duration": 8,
    "start_time": "2022-06-11T13:30:08.781Z"
   },
   {
    "duration": 5,
    "start_time": "2022-06-11T13:30:08.790Z"
   },
   {
    "duration": 12,
    "start_time": "2022-06-11T13:30:08.797Z"
   },
   {
    "duration": 5,
    "start_time": "2022-06-11T13:30:08.810Z"
   },
   {
    "duration": 462,
    "start_time": "2022-06-11T13:30:08.816Z"
   },
   {
    "duration": 6,
    "start_time": "2022-06-11T13:30:09.280Z"
   },
   {
    "duration": 399,
    "start_time": "2022-06-11T13:30:09.288Z"
   },
   {
    "duration": 497,
    "start_time": "2022-06-11T13:30:09.689Z"
   },
   {
    "duration": 334,
    "start_time": "2022-06-11T13:30:10.189Z"
   },
   {
    "duration": 223,
    "start_time": "2022-06-11T13:30:10.577Z"
   },
   {
    "duration": 119,
    "start_time": "2022-06-11T13:30:10.802Z"
   },
   {
    "duration": 136,
    "start_time": "2022-06-11T13:30:10.922Z"
   },
   {
    "duration": 158,
    "start_time": "2022-06-11T13:30:11.060Z"
   },
   {
    "duration": 149,
    "start_time": "2022-06-11T13:30:11.220Z"
   },
   {
    "duration": 127,
    "start_time": "2022-06-11T13:30:11.377Z"
   },
   {
    "duration": 3,
    "start_time": "2022-06-11T13:30:11.506Z"
   },
   {
    "duration": 198,
    "start_time": "2022-06-11T13:30:11.511Z"
   },
   {
    "duration": 3,
    "start_time": "2022-06-11T13:30:11.711Z"
   },
   {
    "duration": 20,
    "start_time": "2022-06-11T13:30:11.716Z"
   },
   {
    "duration": 12,
    "start_time": "2022-06-11T13:30:11.737Z"
   },
   {
    "duration": 29,
    "start_time": "2022-06-11T13:30:11.750Z"
   },
   {
    "duration": 8,
    "start_time": "2022-06-11T13:30:11.780Z"
   },
   {
    "duration": 7,
    "start_time": "2022-06-11T13:30:11.789Z"
   },
   {
    "duration": 9,
    "start_time": "2022-06-11T13:30:11.797Z"
   },
   {
    "duration": 12,
    "start_time": "2022-06-11T13:30:11.807Z"
   },
   {
    "duration": 64,
    "start_time": "2022-06-11T13:30:11.821Z"
   },
   {
    "duration": 4,
    "start_time": "2022-06-11T13:30:25.428Z"
   },
   {
    "duration": 4,
    "start_time": "2022-06-11T13:31:28.548Z"
   },
   {
    "duration": 961,
    "start_time": "2022-06-11T13:31:54.906Z"
   },
   {
    "duration": 44,
    "start_time": "2022-06-11T13:31:55.869Z"
   },
   {
    "duration": 11,
    "start_time": "2022-06-11T13:31:55.915Z"
   },
   {
    "duration": 9,
    "start_time": "2022-06-11T13:31:55.928Z"
   },
   {
    "duration": 3,
    "start_time": "2022-06-11T13:31:55.939Z"
   },
   {
    "duration": 5,
    "start_time": "2022-06-11T13:31:55.944Z"
   },
   {
    "duration": 5,
    "start_time": "2022-06-11T13:31:55.951Z"
   },
   {
    "duration": 9,
    "start_time": "2022-06-11T13:31:55.957Z"
   },
   {
    "duration": 11,
    "start_time": "2022-06-11T13:31:55.967Z"
   },
   {
    "duration": 378,
    "start_time": "2022-06-11T13:31:55.979Z"
   },
   {
    "duration": 7,
    "start_time": "2022-06-11T13:31:56.359Z"
   },
   {
    "duration": 187,
    "start_time": "2022-06-11T13:31:56.367Z"
   },
   {
    "duration": 246,
    "start_time": "2022-06-11T13:31:56.556Z"
   },
   {
    "duration": 181,
    "start_time": "2022-06-11T13:31:56.805Z"
   },
   {
    "duration": 132,
    "start_time": "2022-06-11T13:31:56.987Z"
   },
   {
    "duration": 129,
    "start_time": "2022-06-11T13:31:57.121Z"
   },
   {
    "duration": 137,
    "start_time": "2022-06-11T13:31:57.252Z"
   },
   {
    "duration": 117,
    "start_time": "2022-06-11T13:31:57.390Z"
   },
   {
    "duration": 147,
    "start_time": "2022-06-11T13:31:57.509Z"
   },
   {
    "duration": 155,
    "start_time": "2022-06-11T13:31:57.658Z"
   },
   {
    "duration": 3,
    "start_time": "2022-06-11T13:31:57.815Z"
   },
   {
    "duration": 392,
    "start_time": "2022-06-11T13:31:57.820Z"
   },
   {
    "duration": 3,
    "start_time": "2022-06-11T13:31:58.214Z"
   },
   {
    "duration": 65,
    "start_time": "2022-06-11T13:31:58.219Z"
   },
   {
    "duration": 14,
    "start_time": "2022-06-11T13:31:58.286Z"
   },
   {
    "duration": 12,
    "start_time": "2022-06-11T13:31:58.302Z"
   },
   {
    "duration": 5,
    "start_time": "2022-06-11T13:31:58.315Z"
   },
   {
    "duration": 56,
    "start_time": "2022-06-11T13:31:58.322Z"
   },
   {
    "duration": 8,
    "start_time": "2022-06-11T13:31:58.380Z"
   },
   {
    "duration": 11,
    "start_time": "2022-06-11T13:31:58.389Z"
   },
   {
    "duration": 4,
    "start_time": "2022-06-11T13:31:58.402Z"
   },
   {
    "duration": 23,
    "start_time": "2022-06-11T13:35:01.394Z"
   },
   {
    "duration": 4,
    "start_time": "2022-06-11T13:35:02.421Z"
   },
   {
    "duration": 28,
    "start_time": "2022-06-11T13:40:41.893Z"
   },
   {
    "duration": 25,
    "start_time": "2022-06-11T13:43:08.751Z"
   },
   {
    "duration": 997,
    "start_time": "2022-06-11T13:43:30.400Z"
   },
   {
    "duration": 45,
    "start_time": "2022-06-11T13:43:31.399Z"
   },
   {
    "duration": 13,
    "start_time": "2022-06-11T13:43:31.446Z"
   },
   {
    "duration": 13,
    "start_time": "2022-06-11T13:43:31.461Z"
   },
   {
    "duration": 3,
    "start_time": "2022-06-11T13:43:31.476Z"
   },
   {
    "duration": 6,
    "start_time": "2022-06-11T13:43:31.480Z"
   },
   {
    "duration": 3,
    "start_time": "2022-06-11T13:43:31.488Z"
   },
   {
    "duration": 9,
    "start_time": "2022-06-11T13:43:31.492Z"
   },
   {
    "duration": 12,
    "start_time": "2022-06-11T13:43:31.503Z"
   },
   {
    "duration": 414,
    "start_time": "2022-06-11T13:43:31.516Z"
   },
   {
    "duration": 6,
    "start_time": "2022-06-11T13:43:31.932Z"
   },
   {
    "duration": 230,
    "start_time": "2022-06-11T13:43:31.940Z"
   },
   {
    "duration": 263,
    "start_time": "2022-06-11T13:43:32.178Z"
   },
   {
    "duration": 206,
    "start_time": "2022-06-11T13:43:32.444Z"
   },
   {
    "duration": 128,
    "start_time": "2022-06-11T13:43:32.652Z"
   },
   {
    "duration": 148,
    "start_time": "2022-06-11T13:43:32.782Z"
   },
   {
    "duration": 148,
    "start_time": "2022-06-11T13:43:32.932Z"
   },
   {
    "duration": 123,
    "start_time": "2022-06-11T13:43:33.081Z"
   },
   {
    "duration": 286,
    "start_time": "2022-06-11T13:43:33.205Z"
   },
   {
    "duration": 285,
    "start_time": "2022-06-11T13:43:33.493Z"
   },
   {
    "duration": 5,
    "start_time": "2022-06-11T13:43:33.779Z"
   },
   {
    "duration": 428,
    "start_time": "2022-06-11T13:43:33.786Z"
   },
   {
    "duration": 3,
    "start_time": "2022-06-11T13:43:34.216Z"
   },
   {
    "duration": 64,
    "start_time": "2022-06-11T13:43:34.220Z"
   },
   {
    "duration": 14,
    "start_time": "2022-06-11T13:43:34.285Z"
   },
   {
    "duration": 8,
    "start_time": "2022-06-11T13:43:34.301Z"
   },
   {
    "duration": 7,
    "start_time": "2022-06-11T13:43:34.310Z"
   },
   {
    "duration": 60,
    "start_time": "2022-06-11T13:43:34.318Z"
   },
   {
    "duration": 6,
    "start_time": "2022-06-11T13:43:34.380Z"
   },
   {
    "duration": 8,
    "start_time": "2022-06-11T13:43:34.388Z"
   },
   {
    "duration": 7,
    "start_time": "2022-06-11T13:43:34.398Z"
   },
   {
    "duration": 87,
    "start_time": "2022-06-11T13:43:34.406Z"
   },
   {
    "duration": 5,
    "start_time": "2022-06-11T13:43:34.495Z"
   },
   {
    "duration": 89,
    "start_time": "2022-06-11T13:43:34.502Z"
   },
   {
    "duration": 222,
    "start_time": "2022-06-11T13:44:00.051Z"
   },
   {
    "duration": 81,
    "start_time": "2022-06-11T13:44:24.499Z"
   },
   {
    "duration": 67,
    "start_time": "2022-06-11T13:44:31.093Z"
   },
   {
    "duration": 68,
    "start_time": "2022-06-11T13:45:14.795Z"
   },
   {
    "duration": 31608,
    "start_time": "2022-06-11T13:50:15.771Z"
   },
   {
    "duration": 1057,
    "start_time": "2022-06-11T14:01:06.353Z"
   },
   {
    "duration": 79,
    "start_time": "2022-06-11T14:01:07.411Z"
   },
   {
    "duration": 12,
    "start_time": "2022-06-11T14:01:07.491Z"
   },
   {
    "duration": 10,
    "start_time": "2022-06-11T14:01:07.505Z"
   },
   {
    "duration": 4,
    "start_time": "2022-06-11T14:01:07.516Z"
   },
   {
    "duration": 64,
    "start_time": "2022-06-11T14:01:07.521Z"
   },
   {
    "duration": 3,
    "start_time": "2022-06-11T14:01:07.587Z"
   },
   {
    "duration": 14,
    "start_time": "2022-06-11T14:01:07.591Z"
   },
   {
    "duration": 28,
    "start_time": "2022-06-11T14:01:07.607Z"
   },
   {
    "duration": 940,
    "start_time": "2022-06-11T14:01:07.638Z"
   },
   {
    "duration": 6,
    "start_time": "2022-06-11T14:01:08.580Z"
   },
   {
    "duration": 338,
    "start_time": "2022-06-11T14:01:08.587Z"
   },
   {
    "duration": 324,
    "start_time": "2022-06-11T14:01:08.927Z"
   },
   {
    "duration": 198,
    "start_time": "2022-06-11T14:01:09.253Z"
   },
   {
    "duration": 117,
    "start_time": "2022-06-11T14:01:09.452Z"
   },
   {
    "duration": 133,
    "start_time": "2022-06-11T14:01:09.570Z"
   },
   {
    "duration": 128,
    "start_time": "2022-06-11T14:01:09.704Z"
   },
   {
    "duration": 124,
    "start_time": "2022-06-11T14:01:09.834Z"
   },
   {
    "duration": 140,
    "start_time": "2022-06-11T14:01:09.959Z"
   },
   {
    "duration": 132,
    "start_time": "2022-06-11T14:01:10.101Z"
   },
   {
    "duration": 3,
    "start_time": "2022-06-11T14:01:10.235Z"
   },
   {
    "duration": 191,
    "start_time": "2022-06-11T14:01:10.240Z"
   },
   {
    "duration": 3,
    "start_time": "2022-06-11T14:01:10.433Z"
   },
   {
    "duration": 15,
    "start_time": "2022-06-11T14:01:10.438Z"
   },
   {
    "duration": 26,
    "start_time": "2022-06-11T14:01:10.454Z"
   },
   {
    "duration": 8,
    "start_time": "2022-06-11T14:01:10.482Z"
   },
   {
    "duration": 7,
    "start_time": "2022-06-11T14:01:10.491Z"
   },
   {
    "duration": 3,
    "start_time": "2022-06-11T14:01:10.500Z"
   },
   {
    "duration": 7,
    "start_time": "2022-06-11T14:01:10.505Z"
   },
   {
    "duration": 6,
    "start_time": "2022-06-11T14:01:10.513Z"
   },
   {
    "duration": 4,
    "start_time": "2022-06-11T14:01:10.521Z"
   },
   {
    "duration": 163,
    "start_time": "2022-06-11T14:01:10.527Z"
   },
   {
    "duration": 11199,
    "start_time": "2022-06-11T14:01:10.691Z"
   },
   {
    "duration": 1031,
    "start_time": "2022-06-11T14:08:24.866Z"
   },
   {
    "duration": 45,
    "start_time": "2022-06-11T14:08:25.899Z"
   },
   {
    "duration": 12,
    "start_time": "2022-06-11T14:08:25.946Z"
   },
   {
    "duration": 9,
    "start_time": "2022-06-11T14:08:25.961Z"
   },
   {
    "duration": 6,
    "start_time": "2022-06-11T14:08:25.972Z"
   },
   {
    "duration": 6,
    "start_time": "2022-06-11T14:08:25.979Z"
   },
   {
    "duration": 8,
    "start_time": "2022-06-11T14:08:25.986Z"
   },
   {
    "duration": 9,
    "start_time": "2022-06-11T14:08:25.996Z"
   },
   {
    "duration": 7,
    "start_time": "2022-06-11T14:08:26.007Z"
   },
   {
    "duration": 393,
    "start_time": "2022-06-11T14:08:26.016Z"
   },
   {
    "duration": 6,
    "start_time": "2022-06-11T14:08:26.411Z"
   },
   {
    "duration": 193,
    "start_time": "2022-06-11T14:08:26.418Z"
   },
   {
    "duration": 254,
    "start_time": "2022-06-11T14:08:26.613Z"
   },
   {
    "duration": 196,
    "start_time": "2022-06-11T14:08:26.868Z"
   },
   {
    "duration": 126,
    "start_time": "2022-06-11T14:08:27.065Z"
   },
   {
    "duration": 131,
    "start_time": "2022-06-11T14:08:27.192Z"
   },
   {
    "duration": 146,
    "start_time": "2022-06-11T14:08:27.325Z"
   },
   {
    "duration": 142,
    "start_time": "2022-06-11T14:08:27.473Z"
   },
   {
    "duration": 297,
    "start_time": "2022-06-11T14:08:27.617Z"
   },
   {
    "duration": 290,
    "start_time": "2022-06-11T14:08:27.915Z"
   },
   {
    "duration": 4,
    "start_time": "2022-06-11T14:08:28.207Z"
   },
   {
    "duration": 407,
    "start_time": "2022-06-11T14:08:28.212Z"
   },
   {
    "duration": 4,
    "start_time": "2022-06-11T14:08:28.621Z"
   },
   {
    "duration": 10,
    "start_time": "2022-06-11T14:08:28.679Z"
   },
   {
    "duration": 11,
    "start_time": "2022-06-11T14:08:28.691Z"
   },
   {
    "duration": 6,
    "start_time": "2022-06-11T14:08:28.703Z"
   },
   {
    "duration": 6,
    "start_time": "2022-06-11T14:08:28.710Z"
   },
   {
    "duration": 7,
    "start_time": "2022-06-11T14:08:28.718Z"
   },
   {
    "duration": 7,
    "start_time": "2022-06-11T14:08:28.777Z"
   },
   {
    "duration": 13,
    "start_time": "2022-06-11T14:08:28.785Z"
   },
   {
    "duration": 4,
    "start_time": "2022-06-11T14:08:28.799Z"
   },
   {
    "duration": 199,
    "start_time": "2022-06-11T14:08:28.804Z"
   },
   {
    "duration": 31012,
    "start_time": "2022-06-11T14:08:29.004Z"
   },
   {
    "duration": 200739,
    "start_time": "2022-06-11T14:12:34.682Z"
   },
   {
    "duration": 2,
    "start_time": "2022-06-11T14:18:36.551Z"
   },
   {
    "duration": 1312,
    "start_time": "2022-06-11T14:18:37.289Z"
   },
   {
    "duration": 18,
    "start_time": "2022-06-11T14:18:38.722Z"
   },
   {
    "duration": 4,
    "start_time": "2022-06-11T14:18:39.089Z"
   },
   {
    "duration": 3,
    "start_time": "2022-06-11T14:19:45.829Z"
   },
   {
    "duration": 1247,
    "start_time": "2022-06-11T14:19:46.693Z"
   },
   {
    "duration": 20,
    "start_time": "2022-06-11T14:19:49.829Z"
   },
   {
    "duration": 4,
    "start_time": "2022-06-11T14:19:50.899Z"
   },
   {
    "duration": 2,
    "start_time": "2022-06-11T14:22:51.070Z"
   },
   {
    "duration": 3,
    "start_time": "2022-06-11T14:23:10.465Z"
   },
   {
    "duration": 1248,
    "start_time": "2022-06-11T14:23:11.097Z"
   },
   {
    "duration": 21,
    "start_time": "2022-06-11T14:23:12.346Z"
   },
   {
    "duration": 4,
    "start_time": "2022-06-11T14:23:12.774Z"
   },
   {
    "duration": 10,
    "start_time": "2022-06-11T14:23:29.689Z"
   },
   {
    "duration": 3,
    "start_time": "2022-06-11T14:24:17.469Z"
   },
   {
    "duration": 1235,
    "start_time": "2022-06-11T14:24:17.859Z"
   },
   {
    "duration": 21,
    "start_time": "2022-06-11T14:24:19.096Z"
   },
   {
    "duration": 5,
    "start_time": "2022-06-11T14:24:19.119Z"
   },
   {
    "duration": 3,
    "start_time": "2022-06-11T14:24:24.133Z"
   },
   {
    "duration": 9,
    "start_time": "2022-06-11T14:24:24.590Z"
   },
   {
    "duration": 4,
    "start_time": "2022-06-11T14:24:25.289Z"
   },
   {
    "duration": 4,
    "start_time": "2022-06-11T14:24:25.747Z"
   },
   {
    "duration": 3,
    "start_time": "2022-06-11T14:29:24.183Z"
   },
   {
    "duration": 7,
    "start_time": "2022-06-11T14:29:24.799Z"
   },
   {
    "duration": 4,
    "start_time": "2022-06-11T14:29:25.679Z"
   },
   {
    "duration": 4,
    "start_time": "2022-06-11T14:29:26.499Z"
   },
   {
    "duration": 979,
    "start_time": "2022-06-11T14:29:51.602Z"
   },
   {
    "duration": 44,
    "start_time": "2022-06-11T14:29:52.582Z"
   },
   {
    "duration": 11,
    "start_time": "2022-06-11T14:29:52.627Z"
   },
   {
    "duration": 9,
    "start_time": "2022-06-11T14:29:52.640Z"
   },
   {
    "duration": 3,
    "start_time": "2022-06-11T14:29:52.650Z"
   },
   {
    "duration": 11,
    "start_time": "2022-06-11T14:29:52.654Z"
   },
   {
    "duration": 5,
    "start_time": "2022-06-11T14:29:52.666Z"
   },
   {
    "duration": 9,
    "start_time": "2022-06-11T14:29:52.673Z"
   },
   {
    "duration": 5,
    "start_time": "2022-06-11T14:29:52.684Z"
   },
   {
    "duration": 383,
    "start_time": "2022-06-11T14:29:52.691Z"
   },
   {
    "duration": 8,
    "start_time": "2022-06-11T14:29:53.075Z"
   },
   {
    "duration": 186,
    "start_time": "2022-06-11T14:29:53.085Z"
   },
   {
    "duration": 252,
    "start_time": "2022-06-11T14:29:53.273Z"
   },
   {
    "duration": 179,
    "start_time": "2022-06-11T14:29:53.526Z"
   },
   {
    "duration": 125,
    "start_time": "2022-06-11T14:29:53.706Z"
   },
   {
    "duration": 124,
    "start_time": "2022-06-11T14:29:53.832Z"
   },
   {
    "duration": 136,
    "start_time": "2022-06-11T14:29:53.958Z"
   },
   {
    "duration": 134,
    "start_time": "2022-06-11T14:29:54.095Z"
   },
   {
    "duration": 132,
    "start_time": "2022-06-11T14:29:54.231Z"
   },
   {
    "duration": 129,
    "start_time": "2022-06-11T14:29:54.364Z"
   },
   {
    "duration": 3,
    "start_time": "2022-06-11T14:29:54.495Z"
   },
   {
    "duration": 188,
    "start_time": "2022-06-11T14:29:54.500Z"
   },
   {
    "duration": 3,
    "start_time": "2022-06-11T14:29:54.690Z"
   },
   {
    "duration": 15,
    "start_time": "2022-06-11T14:29:54.695Z"
   },
   {
    "duration": 11,
    "start_time": "2022-06-11T14:29:54.712Z"
   },
   {
    "duration": 6,
    "start_time": "2022-06-11T14:29:54.725Z"
   },
   {
    "duration": 5,
    "start_time": "2022-06-11T14:29:54.733Z"
   },
   {
    "duration": 4,
    "start_time": "2022-06-11T14:29:54.741Z"
   },
   {
    "duration": 33,
    "start_time": "2022-06-11T14:29:54.747Z"
   },
   {
    "duration": 197,
    "start_time": "2022-06-11T14:29:54.781Z"
   },
   {
    "duration": 4,
    "start_time": "2022-06-11T14:29:54.980Z"
   },
   {
    "duration": 119,
    "start_time": "2022-06-11T14:29:54.985Z"
   },
   {
    "duration": 40316,
    "start_time": "2022-06-11T14:29:55.106Z"
   },
   {
    "duration": 0,
    "start_time": "2022-06-11T14:30:35.424Z"
   },
   {
    "duration": 0,
    "start_time": "2022-06-11T14:30:35.425Z"
   },
   {
    "duration": 0,
    "start_time": "2022-06-11T14:30:35.426Z"
   },
   {
    "duration": 0,
    "start_time": "2022-06-11T14:30:35.427Z"
   },
   {
    "duration": 0,
    "start_time": "2022-06-11T14:30:35.428Z"
   },
   {
    "duration": 0,
    "start_time": "2022-06-11T14:30:35.429Z"
   },
   {
    "duration": 0,
    "start_time": "2022-06-11T14:30:35.430Z"
   },
   {
    "duration": 0,
    "start_time": "2022-06-11T14:30:35.430Z"
   },
   {
    "duration": 0,
    "start_time": "2022-06-11T14:30:35.432Z"
   },
   {
    "duration": 0,
    "start_time": "2022-06-11T14:30:35.433Z"
   },
   {
    "duration": 0,
    "start_time": "2022-06-11T14:30:35.433Z"
   },
   {
    "duration": 0,
    "start_time": "2022-06-11T14:30:35.435Z"
   },
   {
    "duration": 2,
    "start_time": "2022-06-11T14:30:46.743Z"
   },
   {
    "duration": 16,
    "start_time": "2022-06-11T14:30:47.361Z"
   },
   {
    "duration": 5,
    "start_time": "2022-06-11T14:30:47.991Z"
   },
   {
    "duration": 4,
    "start_time": "2022-06-11T14:30:48.532Z"
   },
   {
    "duration": 2,
    "start_time": "2022-06-11T14:30:55.865Z"
   },
   {
    "duration": 965,
    "start_time": "2022-06-11T14:31:52.752Z"
   },
   {
    "duration": 45,
    "start_time": "2022-06-11T14:31:53.719Z"
   },
   {
    "duration": 12,
    "start_time": "2022-06-11T14:31:53.765Z"
   },
   {
    "duration": 10,
    "start_time": "2022-06-11T14:31:53.778Z"
   },
   {
    "duration": 4,
    "start_time": "2022-06-11T14:31:53.789Z"
   },
   {
    "duration": 5,
    "start_time": "2022-06-11T14:31:53.794Z"
   },
   {
    "duration": 4,
    "start_time": "2022-06-11T14:31:53.801Z"
   },
   {
    "duration": 12,
    "start_time": "2022-06-11T14:31:53.806Z"
   },
   {
    "duration": 5,
    "start_time": "2022-06-11T14:31:53.819Z"
   },
   {
    "duration": 398,
    "start_time": "2022-06-11T14:31:53.826Z"
   },
   {
    "duration": 6,
    "start_time": "2022-06-11T14:31:54.225Z"
   },
   {
    "duration": 185,
    "start_time": "2022-06-11T14:31:54.232Z"
   },
   {
    "duration": 258,
    "start_time": "2022-06-11T14:31:54.418Z"
   },
   {
    "duration": 196,
    "start_time": "2022-06-11T14:31:54.677Z"
   },
   {
    "duration": 131,
    "start_time": "2022-06-11T14:31:54.874Z"
   },
   {
    "duration": 126,
    "start_time": "2022-06-11T14:31:55.006Z"
   },
   {
    "duration": 123,
    "start_time": "2022-06-11T14:31:55.133Z"
   },
   {
    "duration": 131,
    "start_time": "2022-06-11T14:31:55.258Z"
   },
   {
    "duration": 123,
    "start_time": "2022-06-11T14:31:55.391Z"
   },
   {
    "duration": 137,
    "start_time": "2022-06-11T14:31:55.515Z"
   },
   {
    "duration": 3,
    "start_time": "2022-06-11T14:31:55.654Z"
   },
   {
    "duration": 211,
    "start_time": "2022-06-11T14:31:55.658Z"
   },
   {
    "duration": 8,
    "start_time": "2022-06-11T14:31:55.870Z"
   },
   {
    "duration": 21,
    "start_time": "2022-06-11T14:31:55.879Z"
   },
   {
    "duration": 13,
    "start_time": "2022-06-11T14:31:55.901Z"
   },
   {
    "duration": 8,
    "start_time": "2022-06-11T14:31:55.916Z"
   },
   {
    "duration": 8,
    "start_time": "2022-06-11T14:31:55.926Z"
   },
   {
    "duration": 3,
    "start_time": "2022-06-11T14:31:55.936Z"
   },
   {
    "duration": 40,
    "start_time": "2022-06-11T14:31:55.941Z"
   },
   {
    "duration": 98,
    "start_time": "2022-06-11T14:31:55.983Z"
   },
   {
    "duration": 100,
    "start_time": "2022-06-11T14:31:56.083Z"
   },
   {
    "duration": 257,
    "start_time": "2022-06-11T14:31:56.184Z"
   },
   {
    "duration": 36607,
    "start_time": "2022-06-11T14:31:56.442Z"
   },
   {
    "duration": 3,
    "start_time": "2022-06-11T14:32:33.050Z"
   },
   {
    "duration": 4468,
    "start_time": "2022-06-11T14:32:33.054Z"
   },
   {
    "duration": 22,
    "start_time": "2022-06-11T14:32:37.524Z"
   },
   {
    "duration": 4,
    "start_time": "2022-06-11T14:32:37.547Z"
   },
   {
    "duration": 5,
    "start_time": "2022-06-11T14:32:37.552Z"
   },
   {
    "duration": 32,
    "start_time": "2022-06-11T14:32:37.558Z"
   },
   {
    "duration": 5,
    "start_time": "2022-06-11T14:32:37.592Z"
   },
   {
    "duration": 18,
    "start_time": "2022-06-11T14:32:37.599Z"
   },
   {
    "duration": 9,
    "start_time": "2022-06-11T14:32:37.619Z"
   },
   {
    "duration": 13,
    "start_time": "2022-06-11T14:32:37.630Z"
   },
   {
    "duration": 45,
    "start_time": "2022-06-11T14:32:37.644Z"
   },
   {
    "duration": 107,
    "start_time": "2022-06-11T14:32:37.779Z"
   },
   {
    "duration": 3,
    "start_time": "2022-06-11T14:33:06.691Z"
   },
   {
    "duration": 253,
    "start_time": "2022-06-11T14:33:07.445Z"
   },
   {
    "duration": 7,
    "start_time": "2022-06-11T14:33:07.958Z"
   },
   {
    "duration": 5,
    "start_time": "2022-06-11T14:33:08.446Z"
   },
   {
    "duration": 2,
    "start_time": "2022-06-11T14:39:30.936Z"
   },
   {
    "duration": 241,
    "start_time": "2022-06-11T14:39:31.645Z"
   },
   {
    "duration": 9,
    "start_time": "2022-06-11T14:39:32.805Z"
   },
   {
    "duration": 4,
    "start_time": "2022-06-11T14:39:33.465Z"
   },
   {
    "duration": 4,
    "start_time": "2022-06-11T14:41:22.878Z"
   },
   {
    "duration": 25,
    "start_time": "2022-06-11T14:41:23.505Z"
   },
   {
    "duration": 4,
    "start_time": "2022-06-11T14:41:24.196Z"
   },
   {
    "duration": 5,
    "start_time": "2022-06-11T14:41:25.241Z"
   },
   {
    "duration": 926,
    "start_time": "2022-06-11T14:45:04.246Z"
   },
   {
    "duration": 44,
    "start_time": "2022-06-11T14:45:05.173Z"
   },
   {
    "duration": 11,
    "start_time": "2022-06-11T14:45:05.218Z"
   },
   {
    "duration": 9,
    "start_time": "2022-06-11T14:45:05.231Z"
   },
   {
    "duration": 4,
    "start_time": "2022-06-11T14:45:05.241Z"
   },
   {
    "duration": 5,
    "start_time": "2022-06-11T14:45:05.246Z"
   },
   {
    "duration": 7,
    "start_time": "2022-06-11T14:45:05.252Z"
   },
   {
    "duration": 10,
    "start_time": "2022-06-11T14:45:05.260Z"
   },
   {
    "duration": 9,
    "start_time": "2022-06-11T14:45:05.271Z"
   },
   {
    "duration": 398,
    "start_time": "2022-06-11T14:45:05.282Z"
   },
   {
    "duration": 5,
    "start_time": "2022-06-11T14:45:05.682Z"
   },
   {
    "duration": 179,
    "start_time": "2022-06-11T14:45:05.689Z"
   },
   {
    "duration": 247,
    "start_time": "2022-06-11T14:45:05.869Z"
   },
   {
    "duration": 182,
    "start_time": "2022-06-11T14:45:06.118Z"
   },
   {
    "duration": 124,
    "start_time": "2022-06-11T14:45:06.301Z"
   },
   {
    "duration": 127,
    "start_time": "2022-06-11T14:45:06.427Z"
   },
   {
    "duration": 138,
    "start_time": "2022-06-11T14:45:06.556Z"
   },
   {
    "duration": 126,
    "start_time": "2022-06-11T14:45:06.695Z"
   },
   {
    "duration": 134,
    "start_time": "2022-06-11T14:45:06.823Z"
   },
   {
    "duration": 140,
    "start_time": "2022-06-11T14:45:06.958Z"
   },
   {
    "duration": 3,
    "start_time": "2022-06-11T14:45:07.100Z"
   },
   {
    "duration": 192,
    "start_time": "2022-06-11T14:45:07.105Z"
   },
   {
    "duration": 4,
    "start_time": "2022-06-11T14:45:07.299Z"
   },
   {
    "duration": 28,
    "start_time": "2022-06-11T14:45:07.305Z"
   },
   {
    "duration": 15,
    "start_time": "2022-06-11T14:45:07.335Z"
   },
   {
    "duration": 28,
    "start_time": "2022-06-11T14:45:07.352Z"
   },
   {
    "duration": 9,
    "start_time": "2022-06-11T14:45:07.382Z"
   },
   {
    "duration": 3,
    "start_time": "2022-06-11T14:45:07.394Z"
   },
   {
    "duration": 10,
    "start_time": "2022-06-11T14:45:07.398Z"
   },
   {
    "duration": 76,
    "start_time": "2022-06-11T14:45:07.409Z"
   },
   {
    "duration": 15,
    "start_time": "2022-06-11T14:45:07.577Z"
   },
   {
    "duration": 231,
    "start_time": "2022-06-11T14:45:07.594Z"
   },
   {
    "duration": 36124,
    "start_time": "2022-06-11T14:45:07.826Z"
   },
   {
    "duration": 2,
    "start_time": "2022-06-11T14:45:43.951Z"
   },
   {
    "duration": 25,
    "start_time": "2022-06-11T14:45:43.955Z"
   },
   {
    "duration": 96,
    "start_time": "2022-06-11T14:45:43.983Z"
   },
   {
    "duration": 107,
    "start_time": "2022-06-11T14:45:44.081Z"
   },
   {
    "duration": 89,
    "start_time": "2022-06-11T14:45:44.189Z"
   },
   {
    "duration": 245,
    "start_time": "2022-06-11T14:45:44.280Z"
   },
   {
    "duration": 6,
    "start_time": "2022-06-11T14:45:44.527Z"
   },
   {
    "duration": 12,
    "start_time": "2022-06-11T14:45:44.535Z"
   },
   {
    "duration": 6,
    "start_time": "2022-06-11T14:45:44.548Z"
   },
   {
    "duration": 29,
    "start_time": "2022-06-11T14:45:44.556Z"
   },
   {
    "duration": 4,
    "start_time": "2022-06-11T14:45:44.586Z"
   },
   {
    "duration": 7,
    "start_time": "2022-06-11T14:45:44.591Z"
   },
   {
    "duration": 4,
    "start_time": "2022-06-12T03:22:58.473Z"
   },
   {
    "duration": 1087,
    "start_time": "2022-06-12T03:25:21.690Z"
   },
   {
    "duration": 110,
    "start_time": "2022-06-12T03:25:22.779Z"
   },
   {
    "duration": 11,
    "start_time": "2022-06-12T03:25:22.891Z"
   },
   {
    "duration": 10,
    "start_time": "2022-06-12T03:25:22.903Z"
   },
   {
    "duration": 4,
    "start_time": "2022-06-12T03:25:22.914Z"
   },
   {
    "duration": 8,
    "start_time": "2022-06-12T03:25:22.919Z"
   },
   {
    "duration": 6,
    "start_time": "2022-06-12T03:25:22.928Z"
   },
   {
    "duration": 17,
    "start_time": "2022-06-12T03:25:22.935Z"
   },
   {
    "duration": 5,
    "start_time": "2022-06-12T03:25:22.953Z"
   },
   {
    "duration": 621,
    "start_time": "2022-06-12T03:25:22.960Z"
   },
   {
    "duration": 8,
    "start_time": "2022-06-12T03:25:23.584Z"
   },
   {
    "duration": 255,
    "start_time": "2022-06-12T03:25:23.594Z"
   },
   {
    "duration": 306,
    "start_time": "2022-06-12T03:25:23.852Z"
   },
   {
    "duration": 201,
    "start_time": "2022-06-12T03:25:24.161Z"
   },
   {
    "duration": 136,
    "start_time": "2022-06-12T03:25:24.364Z"
   },
   {
    "duration": 160,
    "start_time": "2022-06-12T03:25:24.501Z"
   },
   {
    "duration": 172,
    "start_time": "2022-06-12T03:25:24.663Z"
   },
   {
    "duration": 156,
    "start_time": "2022-06-12T03:25:24.837Z"
   },
   {
    "duration": 146,
    "start_time": "2022-06-12T03:25:24.994Z"
   },
   {
    "duration": 180,
    "start_time": "2022-06-12T03:25:25.142Z"
   },
   {
    "duration": 4,
    "start_time": "2022-06-12T03:25:25.324Z"
   },
   {
    "duration": 306,
    "start_time": "2022-06-12T03:25:25.330Z"
   },
   {
    "duration": 3,
    "start_time": "2022-06-12T03:25:25.638Z"
   },
   {
    "duration": 2,
    "start_time": "2022-06-12T03:25:25.652Z"
   },
   {
    "duration": 15,
    "start_time": "2022-06-12T03:25:25.656Z"
   },
   {
    "duration": 12,
    "start_time": "2022-06-12T03:25:25.672Z"
   },
   {
    "duration": 11,
    "start_time": "2022-06-12T03:25:25.686Z"
   },
   {
    "duration": 9,
    "start_time": "2022-06-12T03:25:25.699Z"
   },
   {
    "duration": 15,
    "start_time": "2022-06-12T03:25:25.710Z"
   },
   {
    "duration": 25,
    "start_time": "2022-06-12T03:25:25.727Z"
   },
   {
    "duration": 10,
    "start_time": "2022-06-12T03:25:25.754Z"
   },
   {
    "duration": 90,
    "start_time": "2022-06-12T03:25:25.766Z"
   },
   {
    "duration": 160,
    "start_time": "2022-06-12T03:25:25.860Z"
   },
   {
    "duration": 9206,
    "start_time": "2022-06-12T03:25:26.021Z"
   },
   {
    "duration": 3,
    "start_time": "2022-06-12T03:25:35.229Z"
   },
   {
    "duration": 25,
    "start_time": "2022-06-12T03:25:35.234Z"
   },
   {
    "duration": 22,
    "start_time": "2022-06-12T03:25:35.261Z"
   },
   {
    "duration": 23,
    "start_time": "2022-06-12T03:25:35.286Z"
   },
   {
    "duration": 13,
    "start_time": "2022-06-12T03:25:35.312Z"
   },
   {
    "duration": 58,
    "start_time": "2022-06-12T03:25:35.327Z"
   },
   {
    "duration": 7,
    "start_time": "2022-06-12T03:25:35.388Z"
   },
   {
    "duration": 7,
    "start_time": "2022-06-12T03:25:35.396Z"
   },
   {
    "duration": 9,
    "start_time": "2022-06-12T03:25:35.405Z"
   },
   {
    "duration": 19,
    "start_time": "2022-06-12T03:25:35.416Z"
   },
   {
    "duration": 6,
    "start_time": "2022-06-12T03:25:35.436Z"
   },
   {
    "duration": 9,
    "start_time": "2022-06-12T03:25:35.443Z"
   },
   {
    "duration": 266,
    "start_time": "2022-06-12T03:31:38.814Z"
   },
   {
    "duration": 200,
    "start_time": "2022-06-12T03:33:26.994Z"
   },
   {
    "duration": 313,
    "start_time": "2022-06-12T03:34:37.014Z"
   },
   {
    "duration": 4,
    "start_time": "2022-06-12T03:38:51.623Z"
   },
   {
    "duration": 1640,
    "start_time": "2022-06-13T07:50:41.865Z"
   },
   {
    "duration": 145,
    "start_time": "2022-06-13T07:50:43.516Z"
   },
   {
    "duration": 13,
    "start_time": "2022-06-13T07:50:43.663Z"
   },
   {
    "duration": 12,
    "start_time": "2022-06-13T07:50:43.678Z"
   },
   {
    "duration": 27,
    "start_time": "2022-06-13T07:50:43.692Z"
   },
   {
    "duration": 13,
    "start_time": "2022-06-13T07:50:43.722Z"
   },
   {
    "duration": 6,
    "start_time": "2022-06-13T07:50:43.736Z"
   },
   {
    "duration": 15,
    "start_time": "2022-06-13T07:50:43.743Z"
   },
   {
    "duration": 6,
    "start_time": "2022-06-13T07:50:43.760Z"
   },
   {
    "duration": 753,
    "start_time": "2022-06-13T07:50:43.768Z"
   },
   {
    "duration": 11,
    "start_time": "2022-06-13T07:50:44.524Z"
   },
   {
    "duration": 277,
    "start_time": "2022-06-13T07:50:44.538Z"
   },
   {
    "duration": 350,
    "start_time": "2022-06-13T07:50:44.818Z"
   },
   {
    "duration": 267,
    "start_time": "2022-06-13T07:50:45.171Z"
   },
   {
    "duration": 208,
    "start_time": "2022-06-13T07:50:45.440Z"
   },
   {
    "duration": 182,
    "start_time": "2022-06-13T07:50:45.650Z"
   },
   {
    "duration": 200,
    "start_time": "2022-06-13T07:50:45.834Z"
   },
   {
    "duration": 210,
    "start_time": "2022-06-13T07:50:46.036Z"
   },
   {
    "duration": 191,
    "start_time": "2022-06-13T07:50:46.248Z"
   },
   {
    "duration": 172,
    "start_time": "2022-06-13T07:50:46.443Z"
   },
   {
    "duration": 5,
    "start_time": "2022-06-13T07:50:46.621Z"
   },
   {
    "duration": 396,
    "start_time": "2022-06-13T07:50:46.631Z"
   },
   {
    "duration": 5,
    "start_time": "2022-06-13T07:50:47.029Z"
   },
   {
    "duration": 8,
    "start_time": "2022-06-13T07:50:47.036Z"
   },
   {
    "duration": 14,
    "start_time": "2022-06-13T07:50:47.046Z"
   },
   {
    "duration": 14,
    "start_time": "2022-06-13T07:50:47.062Z"
   },
   {
    "duration": 9,
    "start_time": "2022-06-13T07:50:47.078Z"
   },
   {
    "duration": 30,
    "start_time": "2022-06-13T07:50:47.097Z"
   },
   {
    "duration": 11,
    "start_time": "2022-06-13T07:50:47.129Z"
   },
   {
    "duration": 8,
    "start_time": "2022-06-13T07:50:47.142Z"
   },
   {
    "duration": 14,
    "start_time": "2022-06-13T07:50:47.152Z"
   },
   {
    "duration": 165,
    "start_time": "2022-06-13T07:50:47.168Z"
   },
   {
    "duration": 88,
    "start_time": "2022-06-13T07:50:47.335Z"
   },
   {
    "duration": 11500,
    "start_time": "2022-06-13T07:50:47.426Z"
   },
   {
    "duration": 3,
    "start_time": "2022-06-13T07:50:58.931Z"
   },
   {
    "duration": 25,
    "start_time": "2022-06-13T07:50:58.936Z"
   },
   {
    "duration": 17,
    "start_time": "2022-06-13T07:50:58.964Z"
   },
   {
    "duration": 53,
    "start_time": "2022-06-13T07:50:58.986Z"
   },
   {
    "duration": 419,
    "start_time": "2022-06-13T07:50:59.041Z"
   },
   {
    "duration": 4,
    "start_time": "2022-06-13T07:50:59.462Z"
   },
   {
    "duration": 74,
    "start_time": "2022-06-13T07:50:59.470Z"
   },
   {
    "duration": 8,
    "start_time": "2022-06-13T07:50:59.546Z"
   },
   {
    "duration": 7,
    "start_time": "2022-06-13T07:50:59.555Z"
   },
   {
    "duration": 6,
    "start_time": "2022-06-13T07:50:59.564Z"
   },
   {
    "duration": 30,
    "start_time": "2022-06-13T07:50:59.571Z"
   },
   {
    "duration": 19,
    "start_time": "2022-06-13T07:50:59.611Z"
   },
   {
    "duration": 9,
    "start_time": "2022-06-13T07:50:59.632Z"
   },
   {
    "duration": 5,
    "start_time": "2022-06-13T07:55:11.670Z"
   },
   {
    "duration": 7,
    "start_time": "2022-06-13T07:56:12.644Z"
   },
   {
    "duration": 5,
    "start_time": "2022-06-13T07:56:13.594Z"
   },
   {
    "duration": 6,
    "start_time": "2022-06-13T07:56:17.019Z"
   },
   {
    "duration": 408,
    "start_time": "2022-06-13T07:56:18.322Z"
   },
   {
    "duration": 240,
    "start_time": "2022-06-13T07:56:42.500Z"
   },
   {
    "duration": 230,
    "start_time": "2022-06-13T07:57:08.625Z"
   },
   {
    "duration": 3,
    "start_time": "2022-06-13T07:58:22.417Z"
   },
   {
    "duration": 8,
    "start_time": "2022-06-13T08:00:06.517Z"
   },
   {
    "duration": 4,
    "start_time": "2022-06-13T08:00:23.167Z"
   },
   {
    "duration": 249,
    "start_time": "2022-06-13T08:00:40.822Z"
   },
   {
    "duration": 183,
    "start_time": "2022-06-13T08:01:21.057Z"
   },
   {
    "duration": 10,
    "start_time": "2022-06-13T08:02:40.616Z"
   },
   {
    "duration": 9,
    "start_time": "2022-06-13T08:04:50.920Z"
   },
   {
    "duration": 9,
    "start_time": "2022-06-13T08:06:25.776Z"
   },
   {
    "duration": 8,
    "start_time": "2022-06-13T08:06:33.637Z"
   },
   {
    "duration": 14,
    "start_time": "2022-06-13T08:06:56.310Z"
   },
   {
    "duration": 6,
    "start_time": "2022-06-13T08:07:08.844Z"
   },
   {
    "duration": 4,
    "start_time": "2022-06-13T08:08:14.906Z"
   },
   {
    "duration": 9,
    "start_time": "2022-06-13T08:08:48.814Z"
   },
   {
    "duration": 14,
    "start_time": "2022-06-13T08:08:49.901Z"
   },
   {
    "duration": 188,
    "start_time": "2022-06-13T08:09:15.956Z"
   },
   {
    "duration": 3,
    "start_time": "2022-06-13T08:09:49.047Z"
   },
   {
    "duration": 5,
    "start_time": "2022-06-13T08:10:27.876Z"
   },
   {
    "duration": 5,
    "start_time": "2022-06-13T08:10:29.548Z"
   },
   {
    "duration": 217,
    "start_time": "2022-06-13T08:10:30.245Z"
   },
   {
    "duration": 1199,
    "start_time": "2022-06-13T08:11:19.440Z"
   },
   {
    "duration": 47,
    "start_time": "2022-06-13T08:11:20.643Z"
   },
   {
    "duration": 36,
    "start_time": "2022-06-13T08:11:20.691Z"
   },
   {
    "duration": 11,
    "start_time": "2022-06-13T08:11:20.730Z"
   },
   {
    "duration": 5,
    "start_time": "2022-06-13T08:11:20.743Z"
   },
   {
    "duration": 8,
    "start_time": "2022-06-13T08:11:20.749Z"
   },
   {
    "duration": 8,
    "start_time": "2022-06-13T08:11:20.759Z"
   },
   {
    "duration": 41,
    "start_time": "2022-06-13T08:11:20.768Z"
   },
   {
    "duration": 28,
    "start_time": "2022-06-13T08:11:20.811Z"
   },
   {
    "duration": 561,
    "start_time": "2022-06-13T08:11:20.843Z"
   },
   {
    "duration": 15,
    "start_time": "2022-06-13T08:11:21.412Z"
   },
   {
    "duration": 242,
    "start_time": "2022-06-13T08:11:21.430Z"
   },
   {
    "duration": 347,
    "start_time": "2022-06-13T08:11:21.674Z"
   },
   {
    "duration": 233,
    "start_time": "2022-06-13T08:11:22.023Z"
   },
   {
    "duration": 165,
    "start_time": "2022-06-13T08:11:22.258Z"
   },
   {
    "duration": 222,
    "start_time": "2022-06-13T08:11:22.425Z"
   },
   {
    "duration": 165,
    "start_time": "2022-06-13T08:11:22.648Z"
   },
   {
    "duration": 150,
    "start_time": "2022-06-13T08:11:22.815Z"
   },
   {
    "duration": 160,
    "start_time": "2022-06-13T08:11:22.966Z"
   },
   {
    "duration": 170,
    "start_time": "2022-06-13T08:11:23.132Z"
   },
   {
    "duration": 5,
    "start_time": "2022-06-13T08:11:23.304Z"
   },
   {
    "duration": 265,
    "start_time": "2022-06-13T08:11:23.311Z"
   },
   {
    "duration": 5,
    "start_time": "2022-06-13T08:11:23.579Z"
   },
   {
    "duration": 24,
    "start_time": "2022-06-13T08:11:23.603Z"
   },
   {
    "duration": 12,
    "start_time": "2022-06-13T08:11:23.630Z"
   },
   {
    "duration": 17,
    "start_time": "2022-06-13T08:11:23.644Z"
   },
   {
    "duration": 8,
    "start_time": "2022-06-13T08:11:23.663Z"
   },
   {
    "duration": 6,
    "start_time": "2022-06-13T08:11:23.674Z"
   },
   {
    "duration": 4,
    "start_time": "2022-06-13T08:11:23.682Z"
   },
   {
    "duration": 22,
    "start_time": "2022-06-13T08:11:23.695Z"
   },
   {
    "duration": 17,
    "start_time": "2022-06-13T08:11:23.720Z"
   },
   {
    "duration": 6,
    "start_time": "2022-06-13T08:11:23.740Z"
   },
   {
    "duration": 82,
    "start_time": "2022-06-13T08:11:23.748Z"
   },
   {
    "duration": 12023,
    "start_time": "2022-06-13T08:11:23.832Z"
   },
   {
    "duration": 2,
    "start_time": "2022-06-13T08:11:35.857Z"
   },
   {
    "duration": 12,
    "start_time": "2022-06-13T08:11:35.861Z"
   },
   {
    "duration": 2,
    "start_time": "2022-06-13T08:11:35.875Z"
   },
   {
    "duration": 11,
    "start_time": "2022-06-13T08:11:35.898Z"
   },
   {
    "duration": 19,
    "start_time": "2022-06-13T08:11:35.911Z"
   },
   {
    "duration": 195,
    "start_time": "2022-06-13T08:11:35.932Z"
   },
   {
    "duration": 3,
    "start_time": "2022-06-13T08:11:36.130Z"
   },
   {
    "duration": 82,
    "start_time": "2022-06-13T08:11:36.135Z"
   },
   {
    "duration": 2,
    "start_time": "2022-06-13T08:11:36.219Z"
   },
   {
    "duration": 11,
    "start_time": "2022-06-13T08:11:36.223Z"
   },
   {
    "duration": 131,
    "start_time": "2022-06-13T08:11:36.236Z"
   },
   {
    "duration": 0,
    "start_time": "2022-06-13T08:11:36.369Z"
   },
   {
    "duration": 0,
    "start_time": "2022-06-13T08:11:36.371Z"
   },
   {
    "duration": 0,
    "start_time": "2022-06-13T08:11:36.372Z"
   },
   {
    "duration": 0,
    "start_time": "2022-06-13T08:11:36.374Z"
   },
   {
    "duration": 0,
    "start_time": "2022-06-13T08:11:36.375Z"
   },
   {
    "duration": 0,
    "start_time": "2022-06-13T08:11:36.377Z"
   },
   {
    "duration": 0,
    "start_time": "2022-06-13T08:11:36.378Z"
   },
   {
    "duration": 22,
    "start_time": "2022-06-13T08:12:20.566Z"
   },
   {
    "duration": 1100,
    "start_time": "2022-06-13T08:12:35.652Z"
   },
   {
    "duration": 58,
    "start_time": "2022-06-13T08:12:36.754Z"
   },
   {
    "duration": 22,
    "start_time": "2022-06-13T08:12:36.814Z"
   },
   {
    "duration": 9,
    "start_time": "2022-06-13T08:12:36.840Z"
   },
   {
    "duration": 16,
    "start_time": "2022-06-13T08:12:36.851Z"
   },
   {
    "duration": 5,
    "start_time": "2022-06-13T08:12:36.869Z"
   },
   {
    "duration": 16,
    "start_time": "2022-06-13T08:12:36.899Z"
   },
   {
    "duration": 5,
    "start_time": "2022-06-13T08:12:36.917Z"
   },
   {
    "duration": 21,
    "start_time": "2022-06-13T08:12:36.924Z"
   },
   {
    "duration": 17,
    "start_time": "2022-06-13T08:12:36.948Z"
   },
   {
    "duration": 496,
    "start_time": "2022-06-13T08:12:36.967Z"
   },
   {
    "duration": 8,
    "start_time": "2022-06-13T08:12:37.464Z"
   },
   {
    "duration": 246,
    "start_time": "2022-06-13T08:12:37.474Z"
   },
   {
    "duration": 318,
    "start_time": "2022-06-13T08:12:37.721Z"
   },
   {
    "duration": 248,
    "start_time": "2022-06-13T08:12:38.041Z"
   },
   {
    "duration": 152,
    "start_time": "2022-06-13T08:12:38.290Z"
   },
   {
    "duration": 170,
    "start_time": "2022-06-13T08:12:38.444Z"
   },
   {
    "duration": 176,
    "start_time": "2022-06-13T08:12:38.616Z"
   },
   {
    "duration": 245,
    "start_time": "2022-06-13T08:12:38.794Z"
   },
   {
    "duration": 343,
    "start_time": "2022-06-13T08:12:39.095Z"
   },
   {
    "duration": 372,
    "start_time": "2022-06-13T08:12:39.440Z"
   },
   {
    "duration": 5,
    "start_time": "2022-06-13T08:12:39.814Z"
   },
   {
    "duration": 676,
    "start_time": "2022-06-13T08:12:39.820Z"
   },
   {
    "duration": 7,
    "start_time": "2022-06-13T08:12:40.497Z"
   },
   {
    "duration": 20,
    "start_time": "2022-06-13T08:12:40.505Z"
   },
   {
    "duration": 10,
    "start_time": "2022-06-13T08:12:40.527Z"
   },
   {
    "duration": 71,
    "start_time": "2022-06-13T08:12:40.539Z"
   },
   {
    "duration": 12,
    "start_time": "2022-06-13T08:12:40.613Z"
   },
   {
    "duration": 9,
    "start_time": "2022-06-13T08:12:40.627Z"
   },
   {
    "duration": 5,
    "start_time": "2022-06-13T08:12:40.638Z"
   },
   {
    "duration": 59,
    "start_time": "2022-06-13T08:12:40.645Z"
   },
   {
    "duration": 20,
    "start_time": "2022-06-13T08:12:40.708Z"
   },
   {
    "duration": 10,
    "start_time": "2022-06-13T08:12:40.730Z"
   },
   {
    "duration": 173,
    "start_time": "2022-06-13T08:12:40.742Z"
   },
   {
    "duration": 10946,
    "start_time": "2022-06-13T08:12:40.917Z"
   },
   {
    "duration": 2,
    "start_time": "2022-06-13T08:12:51.865Z"
   },
   {
    "duration": 11,
    "start_time": "2022-06-13T08:12:51.869Z"
   },
   {
    "duration": 15,
    "start_time": "2022-06-13T08:12:51.882Z"
   },
   {
    "duration": 19,
    "start_time": "2022-06-13T08:12:51.898Z"
   },
   {
    "duration": 7,
    "start_time": "2022-06-13T08:12:51.919Z"
   },
   {
    "duration": 153,
    "start_time": "2022-06-13T08:12:51.928Z"
   },
   {
    "duration": 15,
    "start_time": "2022-06-13T08:12:52.083Z"
   },
   {
    "duration": 73,
    "start_time": "2022-06-13T08:12:52.100Z"
   },
   {
    "duration": 3,
    "start_time": "2022-06-13T08:12:52.174Z"
   },
   {
    "duration": 12,
    "start_time": "2022-06-13T08:12:52.179Z"
   },
   {
    "duration": 125,
    "start_time": "2022-06-13T08:12:52.193Z"
   },
   {
    "duration": 0,
    "start_time": "2022-06-13T08:12:52.320Z"
   },
   {
    "duration": 0,
    "start_time": "2022-06-13T08:12:52.320Z"
   },
   {
    "duration": 0,
    "start_time": "2022-06-13T08:12:52.322Z"
   },
   {
    "duration": 0,
    "start_time": "2022-06-13T08:12:52.323Z"
   },
   {
    "duration": 0,
    "start_time": "2022-06-13T08:12:52.324Z"
   },
   {
    "duration": 0,
    "start_time": "2022-06-13T08:12:52.326Z"
   },
   {
    "duration": 0,
    "start_time": "2022-06-13T08:12:52.328Z"
   },
   {
    "duration": 7,
    "start_time": "2022-06-13T08:16:06.614Z"
   },
   {
    "duration": 176,
    "start_time": "2022-06-13T08:16:18.069Z"
   },
   {
    "duration": 4,
    "start_time": "2022-06-13T08:16:53.389Z"
   },
   {
    "duration": 11,
    "start_time": "2022-06-13T08:16:53.952Z"
   },
   {
    "duration": 3,
    "start_time": "2022-06-13T08:16:54.818Z"
   },
   {
    "duration": 5,
    "start_time": "2022-06-13T08:16:55.466Z"
   },
   {
    "duration": 11,
    "start_time": "2022-06-13T08:16:56.016Z"
   },
   {
    "duration": 331,
    "start_time": "2022-06-13T08:16:58.989Z"
   },
   {
    "duration": 5,
    "start_time": "2022-06-13T08:17:06.379Z"
   },
   {
    "duration": 1112,
    "start_time": "2022-06-13T08:17:26.513Z"
   },
   {
    "duration": 51,
    "start_time": "2022-06-13T08:17:27.627Z"
   },
   {
    "duration": 19,
    "start_time": "2022-06-13T08:17:27.680Z"
   },
   {
    "duration": 29,
    "start_time": "2022-06-13T08:17:27.704Z"
   },
   {
    "duration": 4,
    "start_time": "2022-06-13T08:17:27.735Z"
   },
   {
    "duration": 7,
    "start_time": "2022-06-13T08:17:27.740Z"
   },
   {
    "duration": 5,
    "start_time": "2022-06-13T08:17:27.748Z"
   },
   {
    "duration": 15,
    "start_time": "2022-06-13T08:17:27.755Z"
   },
   {
    "duration": 9,
    "start_time": "2022-06-13T08:17:27.771Z"
   },
   {
    "duration": 521,
    "start_time": "2022-06-13T08:17:27.783Z"
   },
   {
    "duration": 12,
    "start_time": "2022-06-13T08:17:28.310Z"
   },
   {
    "duration": 223,
    "start_time": "2022-06-13T08:17:28.325Z"
   },
   {
    "duration": 309,
    "start_time": "2022-06-13T08:17:28.550Z"
   },
   {
    "duration": 444,
    "start_time": "2022-06-13T08:17:28.861Z"
   },
   {
    "duration": 327,
    "start_time": "2022-06-13T08:17:29.315Z"
   },
   {
    "duration": 495,
    "start_time": "2022-06-13T08:17:29.708Z"
   },
   {
    "duration": 404,
    "start_time": "2022-06-13T08:17:30.216Z"
   },
   {
    "duration": 307,
    "start_time": "2022-06-13T08:17:30.624Z"
   },
   {
    "duration": 377,
    "start_time": "2022-06-13T08:17:30.932Z"
   },
   {
    "duration": 268,
    "start_time": "2022-06-13T08:17:31.311Z"
   },
   {
    "duration": 13,
    "start_time": "2022-06-13T08:17:31.581Z"
   },
   {
    "duration": 251,
    "start_time": "2022-06-13T08:17:31.597Z"
   },
   {
    "duration": 3,
    "start_time": "2022-06-13T08:17:31.850Z"
   },
   {
    "duration": 14,
    "start_time": "2022-06-13T08:17:31.855Z"
   },
   {
    "duration": 34,
    "start_time": "2022-06-13T08:17:31.871Z"
   },
   {
    "duration": 22,
    "start_time": "2022-06-13T08:17:31.908Z"
   },
   {
    "duration": 16,
    "start_time": "2022-06-13T08:17:31.932Z"
   },
   {
    "duration": 10,
    "start_time": "2022-06-13T08:17:31.952Z"
   },
   {
    "duration": 4,
    "start_time": "2022-06-13T08:17:31.964Z"
   },
   {
    "duration": 24,
    "start_time": "2022-06-13T08:17:31.970Z"
   },
   {
    "duration": 208,
    "start_time": "2022-06-13T08:17:31.996Z"
   },
   {
    "duration": 88,
    "start_time": "2022-06-13T08:17:32.212Z"
   },
   {
    "duration": 305,
    "start_time": "2022-06-13T08:17:32.301Z"
   },
   {
    "duration": 45039,
    "start_time": "2022-06-13T08:17:32.609Z"
   },
   {
    "duration": 2,
    "start_time": "2022-06-13T08:18:17.650Z"
   },
   {
    "duration": 53,
    "start_time": "2022-06-13T08:18:17.654Z"
   },
   {
    "duration": 87,
    "start_time": "2022-06-13T08:18:17.710Z"
   },
   {
    "duration": 27,
    "start_time": "2022-06-13T08:18:17.799Z"
   },
   {
    "duration": 193,
    "start_time": "2022-06-13T08:18:17.829Z"
   },
   {
    "duration": 172,
    "start_time": "2022-06-13T08:18:18.025Z"
   },
   {
    "duration": 3,
    "start_time": "2022-06-13T08:18:18.200Z"
   },
   {
    "duration": 324,
    "start_time": "2022-06-13T08:18:18.208Z"
   },
   {
    "duration": 3,
    "start_time": "2022-06-13T08:18:18.534Z"
   },
   {
    "duration": 13,
    "start_time": "2022-06-13T08:18:18.538Z"
   },
   {
    "duration": 5,
    "start_time": "2022-06-13T08:18:18.553Z"
   },
   {
    "duration": 184,
    "start_time": "2022-06-13T08:18:18.560Z"
   },
   {
    "duration": 3,
    "start_time": "2022-06-13T08:18:18.745Z"
   },
   {
    "duration": 29,
    "start_time": "2022-06-13T08:18:18.750Z"
   },
   {
    "duration": 16,
    "start_time": "2022-06-13T08:18:18.781Z"
   },
   {
    "duration": 21,
    "start_time": "2022-06-13T08:18:18.801Z"
   },
   {
    "duration": 12,
    "start_time": "2022-06-13T08:18:18.825Z"
   },
   {
    "duration": 326,
    "start_time": "2022-06-13T08:18:18.840Z"
   },
   {
    "duration": 4,
    "start_time": "2022-06-13T08:21:26.118Z"
   },
   {
    "duration": 419,
    "start_time": "2022-06-13T08:21:27.121Z"
   },
   {
    "duration": 3,
    "start_time": "2022-06-13T08:21:29.226Z"
   },
   {
    "duration": 11,
    "start_time": "2022-06-13T08:21:29.986Z"
   },
   {
    "duration": 6,
    "start_time": "2022-06-13T08:21:31.769Z"
   },
   {
    "duration": 200,
    "start_time": "2022-06-13T08:21:33.924Z"
   },
   {
    "duration": 1079,
    "start_time": "2022-12-17T21:52:05.563Z"
   },
   {
    "duration": 159,
    "start_time": "2022-12-17T21:52:06.645Z"
   },
   {
    "duration": 13,
    "start_time": "2022-12-17T21:52:06.806Z"
   },
   {
    "duration": 13,
    "start_time": "2022-12-17T21:52:06.822Z"
   },
   {
    "duration": 4,
    "start_time": "2022-12-17T21:52:06.836Z"
   },
   {
    "duration": 5,
    "start_time": "2022-12-17T21:52:06.842Z"
   },
   {
    "duration": 7,
    "start_time": "2022-12-17T21:52:06.849Z"
   },
   {
    "duration": 12,
    "start_time": "2022-12-17T21:52:06.857Z"
   },
   {
    "duration": 7,
    "start_time": "2022-12-17T21:52:06.871Z"
   },
   {
    "duration": 510,
    "start_time": "2022-12-17T21:52:06.914Z"
   },
   {
    "duration": 7,
    "start_time": "2022-12-17T21:52:07.426Z"
   },
   {
    "duration": 230,
    "start_time": "2022-12-17T21:52:07.435Z"
   },
   {
    "duration": 291,
    "start_time": "2022-12-17T21:52:07.667Z"
   },
   {
    "duration": 229,
    "start_time": "2022-12-17T21:52:07.961Z"
   },
   {
    "duration": 148,
    "start_time": "2022-12-17T21:52:08.192Z"
   },
   {
    "duration": 148,
    "start_time": "2022-12-17T21:52:08.342Z"
   },
   {
    "duration": 157,
    "start_time": "2022-12-17T21:52:08.492Z"
   },
   {
    "duration": 151,
    "start_time": "2022-12-17T21:52:08.651Z"
   },
   {
    "duration": 160,
    "start_time": "2022-12-17T21:52:08.813Z"
   },
   {
    "duration": 145,
    "start_time": "2022-12-17T21:52:08.975Z"
   },
   {
    "duration": 4,
    "start_time": "2022-12-17T21:52:09.122Z"
   },
   {
    "duration": 239,
    "start_time": "2022-12-17T21:52:09.128Z"
   },
   {
    "duration": 4,
    "start_time": "2022-12-17T21:52:09.368Z"
   },
   {
    "duration": 29,
    "start_time": "2022-12-17T21:52:09.373Z"
   },
   {
    "duration": 23,
    "start_time": "2022-12-17T21:52:09.403Z"
   },
   {
    "duration": 10,
    "start_time": "2022-12-17T21:52:09.428Z"
   },
   {
    "duration": 10,
    "start_time": "2022-12-17T21:52:09.440Z"
   },
   {
    "duration": 4,
    "start_time": "2022-12-17T21:52:09.453Z"
   },
   {
    "duration": 9,
    "start_time": "2022-12-17T21:52:09.458Z"
   },
   {
    "duration": 145,
    "start_time": "2022-12-17T21:52:09.469Z"
   },
   {
    "duration": 103,
    "start_time": "2022-12-17T21:52:09.616Z"
   },
   {
    "duration": 294,
    "start_time": "2022-12-17T21:52:09.721Z"
   },
   {
    "duration": 12649,
    "start_time": "2022-12-17T21:52:10.017Z"
   },
   {
    "duration": 0,
    "start_time": "2022-12-17T21:52:22.668Z"
   },
   {
    "duration": 0,
    "start_time": "2022-12-17T21:52:22.669Z"
   },
   {
    "duration": 0,
    "start_time": "2022-12-17T21:52:22.670Z"
   },
   {
    "duration": 0,
    "start_time": "2022-12-17T21:52:22.670Z"
   },
   {
    "duration": 0,
    "start_time": "2022-12-17T21:52:22.671Z"
   },
   {
    "duration": 0,
    "start_time": "2022-12-17T21:52:22.672Z"
   },
   {
    "duration": 0,
    "start_time": "2022-12-17T21:52:22.673Z"
   },
   {
    "duration": 0,
    "start_time": "2022-12-17T21:52:22.674Z"
   },
   {
    "duration": 0,
    "start_time": "2022-12-17T21:52:22.675Z"
   },
   {
    "duration": 0,
    "start_time": "2022-12-17T21:52:22.676Z"
   },
   {
    "duration": 0,
    "start_time": "2022-12-17T21:52:22.677Z"
   },
   {
    "duration": 0,
    "start_time": "2022-12-17T21:52:22.678Z"
   },
   {
    "duration": 0,
    "start_time": "2022-12-17T21:52:22.679Z"
   },
   {
    "duration": 0,
    "start_time": "2022-12-17T21:52:22.680Z"
   },
   {
    "duration": 0,
    "start_time": "2022-12-17T21:52:22.681Z"
   },
   {
    "duration": 1134,
    "start_time": "2022-12-17T21:56:46.213Z"
   },
   {
    "duration": 48,
    "start_time": "2022-12-17T21:56:47.349Z"
   },
   {
    "duration": 14,
    "start_time": "2022-12-17T21:56:47.398Z"
   },
   {
    "duration": 13,
    "start_time": "2022-12-17T21:56:47.413Z"
   },
   {
    "duration": 4,
    "start_time": "2022-12-17T21:56:47.429Z"
   },
   {
    "duration": 6,
    "start_time": "2022-12-17T21:56:47.435Z"
   },
   {
    "duration": 9,
    "start_time": "2022-12-17T21:56:47.443Z"
   },
   {
    "duration": 11,
    "start_time": "2022-12-17T21:56:47.454Z"
   },
   {
    "duration": 8,
    "start_time": "2022-12-17T21:56:47.467Z"
   },
   {
    "duration": 496,
    "start_time": "2022-12-17T21:56:47.477Z"
   },
   {
    "duration": 8,
    "start_time": "2022-12-17T21:56:47.976Z"
   },
   {
    "duration": 208,
    "start_time": "2022-12-17T21:56:47.985Z"
   },
   {
    "duration": 286,
    "start_time": "2022-12-17T21:56:48.194Z"
   },
   {
    "duration": 217,
    "start_time": "2022-12-17T21:56:48.483Z"
   },
   {
    "duration": 141,
    "start_time": "2022-12-17T21:56:48.702Z"
   },
   {
    "duration": 159,
    "start_time": "2022-12-17T21:56:48.845Z"
   },
   {
    "duration": 167,
    "start_time": "2022-12-17T21:56:49.006Z"
   },
   {
    "duration": 146,
    "start_time": "2022-12-17T21:56:49.175Z"
   },
   {
    "duration": 154,
    "start_time": "2022-12-17T21:56:49.323Z"
   },
   {
    "duration": 143,
    "start_time": "2022-12-17T21:56:49.479Z"
   },
   {
    "duration": 4,
    "start_time": "2022-12-17T21:56:49.624Z"
   },
   {
    "duration": 253,
    "start_time": "2022-12-17T21:56:49.629Z"
   },
   {
    "duration": 4,
    "start_time": "2022-12-17T21:56:49.884Z"
   },
   {
    "duration": 30,
    "start_time": "2022-12-17T21:56:49.890Z"
   },
   {
    "duration": 17,
    "start_time": "2022-12-17T21:56:49.922Z"
   },
   {
    "duration": 11,
    "start_time": "2022-12-17T21:56:49.941Z"
   },
   {
    "duration": 13,
    "start_time": "2022-12-17T21:56:49.953Z"
   },
   {
    "duration": 5,
    "start_time": "2022-12-17T21:56:49.969Z"
   },
   {
    "duration": 41,
    "start_time": "2022-12-17T21:56:49.976Z"
   },
   {
    "duration": 94,
    "start_time": "2022-12-17T21:56:50.020Z"
   },
   {
    "duration": 120,
    "start_time": "2022-12-17T21:56:50.116Z"
   },
   {
    "duration": 295,
    "start_time": "2022-12-17T21:56:50.238Z"
   },
   {
    "duration": 38207,
    "start_time": "2022-12-17T21:56:50.535Z"
   },
   {
    "duration": 3,
    "start_time": "2022-12-17T21:57:28.743Z"
   },
   {
    "duration": 14,
    "start_time": "2022-12-17T21:57:28.748Z"
   },
   {
    "duration": 98,
    "start_time": "2022-12-17T21:57:28.816Z"
   },
   {
    "duration": 11,
    "start_time": "2022-12-17T21:57:28.917Z"
   },
   {
    "duration": 238,
    "start_time": "2022-12-17T21:57:29.013Z"
   },
   {
    "duration": 3,
    "start_time": "2022-12-17T21:57:29.252Z"
   },
   {
    "duration": 357,
    "start_time": "2022-12-17T21:57:29.257Z"
   },
   {
    "duration": 8,
    "start_time": "2022-12-17T21:57:29.618Z"
   },
   {
    "duration": 18,
    "start_time": "2022-12-17T21:57:29.628Z"
   },
   {
    "duration": 159,
    "start_time": "2022-12-17T21:57:29.647Z"
   },
   {
    "duration": 5,
    "start_time": "2022-12-17T21:57:29.808Z"
   },
   {
    "duration": 27,
    "start_time": "2022-12-17T21:57:29.815Z"
   },
   {
    "duration": 5,
    "start_time": "2022-12-17T21:57:29.844Z"
   },
   {
    "duration": 26,
    "start_time": "2022-12-17T21:57:29.850Z"
   },
   {
    "duration": 255,
    "start_time": "2022-12-17T21:57:29.878Z"
   }
  ],
  "kernelspec": {
   "display_name": "Python 3 (ipykernel)",
   "language": "python",
   "name": "python3"
  },
  "language_info": {
   "codemirror_mode": {
    "name": "ipython",
    "version": 3
   },
   "file_extension": ".py",
   "mimetype": "text/x-python",
   "name": "python",
   "nbconvert_exporter": "python",
   "pygments_lexer": "ipython3",
   "version": "3.9.5"
  },
  "toc": {
   "base_numbering": 1,
   "nav_menu": {},
   "number_sections": true,
   "sideBar": true,
   "skip_h1_title": true,
   "title_cell": "Содержание",
   "title_sidebar": "Contents",
   "toc_cell": true,
   "toc_position": {
    "height": "calc(100% - 180px)",
    "left": "10px",
    "top": "150px",
    "width": "257.328px"
   },
   "toc_section_display": true,
   "toc_window_display": true
  }
 },
 "nbformat": 4,
 "nbformat_minor": 2
}
